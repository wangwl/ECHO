{
 "cells": [
  {
   "cell_type": "code",
   "execution_count": 1,
   "id": "0e58180a",
   "metadata": {},
   "outputs": [],
   "source": [
    "import os\n",
    "import re\n",
    "import glob\n",
    "import bbi\n",
    "import pandas as pd\n",
    "import numpy as np\n",
    "import matplotlib.pyplot as plt\n",
    "import seaborn as sns\n",
    "import matplotlib.patches as mpatches\n",
    "from matplotlib.patches import Path, PathPatch, Rectangle\n",
    "from matplotlib.collections import PatchCollection"
   ]
  },
  {
   "cell_type": "code",
   "execution_count": 2,
   "id": "a3fc7ac4",
   "metadata": {},
   "outputs": [],
   "source": [
    "def draw_bigwig(ax, bwfile, chrom, start, end, color, bins=100):\n",
    "    track_patch = list()\n",
    "    with bbi.open(bwfile) as f:\n",
    "        data = f.fetch(chrom, start, end, bins)\n",
    "        minx = np.min(data)\n",
    "        maxx = np.max(data)\n",
    "        for i, x in enumerate(data):\n",
    "            startx = start + i * 50\n",
    "            track_rect = Rectangle([startx, 0], 50, x, color=color)\n",
    "            track_patch.append(track_rect)\n",
    "    track_collection = PatchCollection(track_patch, match_original=True, edgecolors=color, facecolors=color)\n",
    "    ax.add_collection(track_collection)\n",
    "    ax.set_xlim((start, end))\n",
    "    ax.set_ylim((minx, maxx))\n",
    "    ax.get_xaxis().set_visible(False)"
   ]
  },
  {
   "cell_type": "code",
   "execution_count": 3,
   "id": "3dcd073b",
   "metadata": {},
   "outputs": [],
   "source": [
    "def draw_gene(ax, gff, chrom, start, end):\n",
    "    gene_df = pd.read_csv(gff, sep=\"\\t\", comment=\"#\", names=['chrom', 'source', 'type', 'start', 'end', 'skip1', 'strand', 'skip2', 'feature'])\n",
    "    target_anno = gene_df[(gene_df['chrom'] == chrom) & (gene_df['start'] > start) & (gene_df['end'] < end)]\n",
    "    \n",
    "    track_patch = list()\n",
    "    for i, row in target_anno.iterrows():\n",
    "        attribute = row.feature.rstrip(\";\").split(\";\")\n",
    "#         attribute = [re.sub('\"', '', x) for x in attribute]\n",
    "        attribute = [x.split(\"=\") for x in attribute]\n",
    "        attribute = pd.DataFrame(attribute, columns=['attr', 'value'])\n",
    "        geneInfo = dict(zip(attribute['attr'], attribute['value']))\n",
    "        if row.type == 'exon':\n",
    "            track_rect = Rectangle([row.start, 0.5], row.end-row.start, 0.4, color='blue')\n",
    "            track_patch.append(track_rect)\n",
    "        elif row.type == 'gene' and row.strand=='+':\n",
    "#             plt.arrow(row.start, 0.5, row.end - row.start, 0, color='black', length_includes_head=False, shape='right')\n",
    "            arrow = mpatches.FancyArrowPatch((row.start, 0.7), (row.end, 0.7), mutation_scale=10)\n",
    "            ax.text((row.start + row.end)/2, 0.1, geneInfo['gene_name'])\n",
    "            ax.add_patch(arrow)\n",
    "        elif row.type == 'gene' and row.strand=='-':\n",
    "#             plt.arrow(row.end, 0.5, row.start - row.end, 0, color='black', length_includes_head=False, shape='left')\n",
    "            arrow = mpatches.FancyArrowPatch((row.end, 0.7), (row.start, 0.7), mutation_scale=10)\n",
    "            ax.text((row.start + row.end)/2, 0.1, geneInfo['gene_name'])\n",
    "            ax.add_patch(arrow)\n",
    "    track_collection = PatchCollection(track_patch, match_original=True, edgecolors='blue', facecolors='blue')\n",
    "    ax.add_collection(track_collection)\n",
    "    ax.set_xlim((start, end))\n",
    "    ax.set_ylim((0, 1))\n",
    "    ax.get_yaxis().set_visible(False)"
   ]
  },
  {
   "cell_type": "code",
   "execution_count": null,
   "id": "f82c5e78",
   "metadata": {},
   "outputs": [],
   "source": [
    "def draw_ticks(ax, st, ed, zero_x, y, y_range=10, text=\"up\", divide=1000000):\n",
    "    ax.axhline(y, color='black')\n",
    "    label_gap = divide/10\n",
    "    st_tick = int(st/label_gap) + 1\n",
    "    ed_tick = int(ed/label_gap)\n",
    "    for x in range(st_tick, (ed_tick+1)):\n",
    "        tick_length = y_range/200.0\n",
    "        tick_x = x*label_gap - zero_x\n",
    "        tick_label = \"\"\n",
    "        if x%10 == 0:\n",
    "            tick_length *= 3\n",
    "            tick_label = str(x*label_gap/1000000.0)\n",
    "        elif x%5 == 0:\n",
    "            tick_length *= 2\n",
    "\n",
    "        if text == \"up\":\n",
    "            tick_y = y + tick_length\n",
    "        elif text == \"down\":\n",
    "            tick_y = y - tick_length\n",
    "        ax.plot([tick_x, tick_x], [y, tick_y], color='black')\n",
    "        if len(tick_label) > 0 and text == 'up':\n",
    "            ax.text(tick_x, tick_y + y_range/300.0, s=tick_label, color='black', horizontalalignment='center')\n",
    "        elif len(tick_label) > 0 and text == 'down':\n",
    "            ax.text(tick_x, tick_y - tick_length - y_range/300.0, s=tick_label, color='black', horizontalalignment='center')"
   ]
  },
  {
   "cell_type": "code",
   "execution_count": 4,
   "id": "41cb4f61",
   "metadata": {},
   "outputs": [],
   "source": [
    "gff_file = \"/gale/netapp/DoD/wenliang/database/ref/hg38/Annotation/gencode.v35.annotation.gff3\""
   ]
  },
  {
   "cell_type": "code",
   "execution_count": 5,
   "id": "9600778c",
   "metadata": {},
   "outputs": [],
   "source": [
    "chrom = 'chr11'\n",
    "start = 118289273\n",
    "end = 118373606\n",
    "bins = (end - start +1) // 50 + 1"
   ]
  },
  {
   "cell_type": "code",
   "execution_count": 14,
   "id": "26e0474e",
   "metadata": {},
   "outputs": [],
   "source": [
    "bigwigs = glob.glob(\"/gale/netapp/DoD/wenliang/projects/07.Ctrl/02.mergeAllc/bigwig/*.frac.bw\")\n",
    "bigwigs = [x for x in bigwigs if 'Other-cell' not in x and 'B-cell' not in x and 'NK-cell.CGN' not in x]\n",
    "cell_order = [re.sub(\"\\.\\S+\", \"\", os.path.basename(x)) for x in bigwigs]"
   ]
  },
  {
   "cell_type": "code",
   "execution_count": 16,
   "id": "317a82be",
   "metadata": {},
   "outputs": [],
   "source": [
    "color_plate = sns.color_palette(\"tab10\")\n",
    "color_plate = [color_plate[0],  color_plate[0]] + color_plate[1:3] + [color_plate[2]] + color_plate[3:]\n",
    "cell2color = dict(zip(cell_order, color_plate[:len(cell_order)]))"
   ]
  },
  {
   "cell_type": "code",
   "execution_count": 17,
   "id": "a7910681",
   "metadata": {},
   "outputs": [
    {
     "data": {
      "text/plain": [
       "{'B-Mem': (0.12156862745098039, 0.4666666666666667, 0.7058823529411765),\n",
       " 'B-Naive': (0.12156862745098039, 0.4666666666666667, 0.7058823529411765),\n",
       " 'Monocyte': (1.0, 0.4980392156862745, 0.054901960784313725),\n",
       " 'NK-cell1': (0.17254901960784313, 0.6274509803921569, 0.17254901960784313),\n",
       " 'NK-cell2': (0.17254901960784313, 0.6274509803921569, 0.17254901960784313),\n",
       " 'Tc-Mem': (0.8392156862745098, 0.15294117647058825, 0.1568627450980392),\n",
       " 'Tc-Naive': (0.5803921568627451, 0.403921568627451, 0.7411764705882353),\n",
       " 'Th-Mem': (0.5490196078431373, 0.33725490196078434, 0.29411764705882354),\n",
       " 'Th-Naive': (0.8901960784313725, 0.4666666666666667, 0.7607843137254902)}"
      ]
     },
     "execution_count": 17,
     "metadata": {},
     "output_type": "execute_result"
    }
   ],
   "source": [
    "cell2color"
   ]
  },
  {
   "cell_type": "code",
   "execution_count": 19,
   "id": "a47cc771",
   "metadata": {},
   "outputs": [],
   "source": [
    "import matplotlib"
   ]
  },
  {
   "cell_type": "code",
   "execution_count": 20,
   "id": "d3b470d0",
   "metadata": {},
   "outputs": [],
   "source": [
    "matplotlib.rc('pdf', fonttype=42)"
   ]
  },
  {
   "cell_type": "code",
   "execution_count": 21,
   "id": "b547d71f",
   "metadata": {
    "scrolled": false
   },
   "outputs": [
    {
     "data": {
      "image/png": "[encoded data removed]",
      "text/plain": [
       "<Figure size 1440x720 with 10 Axes>"
      ]
     },
     "metadata": {
      "needs_background": "light"
     },
     "output_type": "display_data"
    }
   ],
   "source": [
    "fig, axes = plt.subplots(len(bigwigs)+1,1, figsize=(20, len(bigwigs)+1), sharex=True)\n",
    "for i, bigwig in enumerate(bigwigs):\n",
    "    cell = re.sub(\"\\.\\S+\", \"\", os.path.basename(bigwig))\n",
    "    if cell == 'Other-cell':\n",
    "        continue\n",
    "    draw_bigwig(axes[i], bigwig, chrom, start, end, cell2color[cell], bins)\n",
    "draw_gene(axes[i+1], gff_file, chrom, start, end)\n",
    "plt.savefig(\"CD3.bigwig.pdf\")"
   ]
  },
  {
   "cell_type": "code",
   "execution_count": 57,
   "id": "e291434a",
   "metadata": {},
   "outputs": [
    {
     "data": {
      "text/plain": [
       "'/gale/netapp/DoD/wenliang/projects/07.Ctrl/02.mergeAllc/bigwig/Th-Naive.CGN-both.frac.bw'"
      ]
     },
     "execution_count": 57,
     "metadata": {},
     "output_type": "execute_result"
    }
   ],
   "source": [
    "bigwig"
   ]
  },
  {
   "cell_type": "code",
   "execution_count": 22,
   "id": "4232f9c6",
   "metadata": {},
   "outputs": [
    {
     "data": {
      "text/plain": [
       "['/gale/netapp/DoD/wenliang/projects/07.Ctrl/02.mergeAllc/bigwig/B-Mem.CGN-both.frac.bw',\n",
       " '/gale/netapp/DoD/wenliang/projects/07.Ctrl/02.mergeAllc/bigwig/B-Naive.CGN-both.frac.bw',\n",
       " '/gale/netapp/DoD/wenliang/projects/07.Ctrl/02.mergeAllc/bigwig/Monocyte.CGN-both.frac.bw',\n",
       " '/gale/netapp/DoD/wenliang/projects/07.Ctrl/02.mergeAllc/bigwig/NK-cell1.CGN-both.frac.bw',\n",
       " '/gale/netapp/DoD/wenliang/projects/07.Ctrl/02.mergeAllc/bigwig/NK-cell2.CGN-both.frac.bw',\n",
       " '/gale/netapp/DoD/wenliang/projects/07.Ctrl/02.mergeAllc/bigwig/Tc-Mem.CGN-both.frac.bw',\n",
       " '/gale/netapp/DoD/wenliang/projects/07.Ctrl/02.mergeAllc/bigwig/Tc-Naive.CGN-both.frac.bw',\n",
       " '/gale/netapp/DoD/wenliang/projects/07.Ctrl/02.mergeAllc/bigwig/Th-Mem.CGN-both.frac.bw',\n",
       " '/gale/netapp/DoD/wenliang/projects/07.Ctrl/02.mergeAllc/bigwig/Th-Naive.CGN-both.frac.bw']"
      ]
     },
     "execution_count": 22,
     "metadata": {},
     "output_type": "execute_result"
    }
   ],
   "source": [
    "bigwigs"
   ]
  },
  {
   "cell_type": "code",
   "execution_count": null,
   "id": "3508e4c9",
   "metadata": {},
   "outputs": [],
   "source": []
  }
 ],
 "metadata": {
  "kernelspec": {
   "display_name": "Python 3",
   "language": "python",
   "name": "python3"
  },
  "language_info": {
   "codemirror_mode": {
    "name": "ipython",
    "version": 3
   },
   "file_extension": ".py",
   "mimetype": "text/x-python",
   "name": "python",
   "nbconvert_exporter": "python",
   "pygments_lexer": "ipython3",
   "version": "3.7.10"
  }
 },
 "nbformat": 4,
 "nbformat_minor": 5
}
