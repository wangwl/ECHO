{
 "cells": [
  {
   "cell_type": "code",
   "execution_count": 1,
   "id": "a66fdb9d-dcb3-4d47-af5c-ecaaefb36820",
   "metadata": {
    "vscode": {
     "languageId": "r"
    }
   },
   "outputs": [],
   "source": [
    "# install.packages(\"devtools\")\n",
    "# devtools::install_github(\"boxiangliu/locuscomparer\")"
   ]
  },
  {
   "cell_type": "code",
   "execution_count": 1,
   "id": "f1c04c47-471c-4265-976c-aeae1e3528be",
   "metadata": {
    "scrolled": true,
    "tags": [],
    "vscode": {
     "languageId": "r"
    }
   },
   "outputs": [
    {
     "name": "stderr",
     "output_type": "stream",
     "text": [
      "Loading required package: ensembldb\n",
      "\n",
      "Loading required package: BiocGenerics\n",
      "\n",
      "\n",
      "Attaching package: 'BiocGenerics'\n",
      "\n",
      "\n",
      "The following objects are masked from 'package:lubridate':\n",
      "\n",
      "    intersect, setdiff, union\n",
      "\n",
      "\n",
      "The following objects are masked from 'package:dplyr':\n",
      "\n",
      "    combine, intersect, setdiff, union\n",
      "\n",
      "\n",
      "The following objects are masked from 'package:stats':\n",
      "\n",
      "    IQR, mad, sd, var, xtabs\n",
      "\n",
      "\n",
      "The following objects are masked from 'package:base':\n",
      "\n",
      "    anyDuplicated, aperm, append, as.data.frame, basename, cbind,\n",
      "    colnames, dirname, do.call, duplicated, eval, evalq, Filter, Find,\n",
      "    get, grep, grepl, intersect, is.unsorted, lapply, Map, mapply,\n",
      "    match, mget, order, paste, pmax, pmax.int, pmin, pmin.int,\n",
      "    Position, rank, rbind, Reduce, rownames, sapply, setdiff, sort,\n",
      "    table, tapply, union, unique, unsplit, which.max, which.min\n",
      "\n",
      "\n",
      "Loading required package: GenomicRanges\n",
      "\n",
      "Loading required package: stats4\n",
      "\n",
      "Loading required package: S4Vectors\n",
      "\n",
      "\n",
      "Attaching package: 'S4Vectors'\n",
      "\n",
      "\n",
      "The following objects are masked from 'package:data.table':\n",
      "\n",
      "    first, second\n",
      "\n",
      "\n",
      "The following objects are masked from 'package:lubridate':\n",
      "\n",
      "    second, second<-\n",
      "\n",
      "\n",
      "The following objects are masked from 'package:dplyr':\n",
      "\n",
      "    first, rename\n",
      "\n",
      "\n",
      "The following object is masked from 'package:tidyr':\n",
      "\n",
      "    expand\n",
      "\n",
      "\n",
      "The following object is masked from 'package:utils':\n",
      "\n",
      "    findMatches\n",
      "\n",
      "\n",
      "The following objects are masked from 'package:base':\n",
      "\n",
      "    expand.grid, I, unname\n",
      "\n",
      "\n",
      "Loading required package: IRanges\n",
      "\n",
      "\n",
      "Attaching package: 'IRanges'\n",
      "\n",
      "\n",
      "The following object is masked from 'package:data.table':\n",
      "\n",
      "    shift\n",
      "\n",
      "\n",
      "The following object is masked from 'package:lubridate':\n",
      "\n",
      "    %within%\n",
      "\n",
      "\n",
      "The following objects are masked from 'package:dplyr':\n",
      "\n",
      "    collapse, desc, slice\n",
      "\n",
      "\n",
      "The following object is masked from 'package:purrr':\n",
      "\n",
      "    reduce\n",
      "\n",
      "\n",
      "Loading required package: GenomeInfoDb\n",
      "\n",
      "Loading required package: GenomicFeatures\n",
      "\n",
      "Loading required package: AnnotationDbi\n",
      "\n",
      "Loading required package: Biobase\n",
      "\n",
      "Welcome to Bioconductor\n",
      "\n",
      "    Vignettes contain introductory material; view with\n",
      "    'browseVignettes()'. To cite Bioconductor, see\n",
      "    'citation(\"Biobase\")', and for packages 'citation(\"pkgname\")'.\n",
      "\n",
      "\n",
      "\n",
      "Attaching package: 'AnnotationDbi'\n",
      "\n",
      "\n",
      "The following object is masked from 'package:dplyr':\n",
      "\n",
      "    select\n",
      "\n",
      "\n",
      "Loading required package: AnnotationFilter\n",
      "\n",
      "\n",
      "Attaching package: 'ensembldb'\n",
      "\n",
      "\n",
      "The following object is masked from 'package:dplyr':\n",
      "\n",
      "    filter\n",
      "\n",
      "\n",
      "The following object is masked from 'package:stats':\n",
      "\n",
      "    filter\n",
      "\n",
      "\n"
     ]
    }
   ],
   "source": [
    "library(locuscomparer)\n",
    "suppressMessages(library(tidyverse))\n",
    "suppressMessages(library(data.table))\n",
    "library(locuszoomr) #https://cran.r-project.org/web/packages/locuszoomr/vignettes/locuszoomr.html\n",
    "library(EnsDb.Hsapiens.v86)"
   ]
  },
  {
   "cell_type": "code",
   "execution_count": 2,
   "id": "b9c512d4-e243-4f18-8e3f-19a83d71690d",
   "metadata": {
    "vscode": {
     "languageId": "r"
    }
   },
   "outputs": [
    {
     "data": {
      "text/html": [
       "<table class=\"dataframe\">\n",
       "<caption>A data.table: 6 × 14</caption>\n",
       "<thead>\n",
       "\t<tr><th scope=col>snp</th><th scope=col>MAF</th><th scope=col>dmr_id</th><th scope=col>pvalues</th><th scope=col>phe2</th><th scope=col>snp2</th><th scope=col>pvalues2</th><th scope=col>n_snps</th><th scope=col>PP3</th><th scope=col>PP4</th><th scope=col>Name</th><th scope=col>file</th><th scope=col>trait_description</th><th scope=col>ontology_mapping</th></tr>\n",
       "\t<tr><th scope=col>&lt;chr&gt;</th><th scope=col>&lt;dbl&gt;</th><th scope=col>&lt;chr&gt;</th><th scope=col>&lt;dbl&gt;</th><th scope=col>&lt;chr&gt;</th><th scope=col>&lt;chr&gt;</th><th scope=col>&lt;dbl&gt;</th><th scope=col>&lt;dbl&gt;</th><th scope=col>&lt;dbl&gt;</th><th scope=col>&lt;dbl&gt;</th><th scope=col>&lt;chr&gt;</th><th scope=col>&lt;chr&gt;</th><th scope=col>&lt;chr&gt;</th><th scope=col>&lt;chr&gt;</th></tr>\n",
       "</thead>\n",
       "<tbody>\n",
       "\t<tr><td>rs34950321 </td><td>0.3430</td><td>dmr938063 </td><td>9.02598e-35</td><td>GCST90002361</td><td>rs34950321 </td><td>          NA</td><td>23</td><td>0</td><td>1</td><td>Monocyte</td><td>Monocyte.quant.no_beta.txt  </td><td>Platelet count             </td><td>EFO_0004309</td></tr>\n",
       "\t<tr><td>rs2606736  </td><td>0.5000</td><td>dmr846958 </td><td>9.52361e-25</td><td>GCST90000064</td><td>rs2606736  </td><td>          NA</td><td> 1</td><td>0</td><td>1</td><td>Th-Naive</td><td>Th-Naive.quant.no_beta.txt  </td><td>Hypertension               </td><td>EFO_0000537</td></tr>\n",
       "\t<tr><td>rs2606736  </td><td>0.5000</td><td>dmr1668545</td><td>3.50297e-21</td><td>GCST90000064</td><td>rs2606736  </td><td>          NA</td><td> 1</td><td>0</td><td>1</td><td>Tc-Mem  </td><td>Tc-Mem.quant.no_beta.txt    </td><td>Hypertension               </td><td>EFO_0000537</td></tr>\n",
       "\t<tr><td>rs112802399</td><td>0.5000</td><td>dmr552486 </td><td>2.95551e-20</td><td>GCST90002372</td><td>rs112802399</td><td>          NA</td><td> 1</td><td>0</td><td>1</td><td>Tc-Naive</td><td>Tc-Naive.quant.no_beta.txt  </td><td>Red cell distribution width</td><td>EFO_0005192</td></tr>\n",
       "\t<tr><td>rs2606736  </td><td>0.5000</td><td>dmr759136 </td><td>1.35033e-19</td><td>GCST90000064</td><td>rs2606736  </td><td>          NA</td><td> 1</td><td>0</td><td>1</td><td>Th-Mem  </td><td>Th-Mem.quant.no_beta.txt    </td><td>Hypertension               </td><td>EFO_0000537</td></tr>\n",
       "\t<tr><td>rs117455353</td><td>0.4565</td><td>dmr1255391</td><td>2.35883e-18</td><td>GCST90296614</td><td>rs117455353</td><td>3.122842e-09</td><td> 1</td><td>0</td><td>1</td><td>Tc-Naive</td><td>Tc-Naive.quant.with_beta.txt</td><td>Arthritis                  </td><td>EFO_0005856</td></tr>\n",
       "</tbody>\n",
       "</table>\n"
      ],
      "text/latex": [
       "A data.table: 6 × 14\n",
       "\\begin{tabular}{llllllllllllll}\n",
       " snp & MAF & dmr\\_id & pvalues & phe2 & snp2 & pvalues2 & n\\_snps & PP3 & PP4 & Name & file & trait\\_description & ontology\\_mapping\\\\\n",
       " <chr> & <dbl> & <chr> & <dbl> & <chr> & <chr> & <dbl> & <dbl> & <dbl> & <dbl> & <chr> & <chr> & <chr> & <chr>\\\\\n",
       "\\hline\n",
       "\t rs34950321  & 0.3430 & dmr938063  & 9.02598e-35 & GCST90002361 & rs34950321  &           NA & 23 & 0 & 1 & Monocyte & Monocyte.quant.no\\_beta.txt   & Platelet count              & EFO\\_0004309\\\\\n",
       "\t rs2606736   & 0.5000 & dmr846958  & 9.52361e-25 & GCST90000064 & rs2606736   &           NA &  1 & 0 & 1 & Th-Naive & Th-Naive.quant.no\\_beta.txt   & Hypertension                & EFO\\_0000537\\\\\n",
       "\t rs2606736   & 0.5000 & dmr1668545 & 3.50297e-21 & GCST90000064 & rs2606736   &           NA &  1 & 0 & 1 & Tc-Mem   & Tc-Mem.quant.no\\_beta.txt     & Hypertension                & EFO\\_0000537\\\\\n",
       "\t rs112802399 & 0.5000 & dmr552486  & 2.95551e-20 & GCST90002372 & rs112802399 &           NA &  1 & 0 & 1 & Tc-Naive & Tc-Naive.quant.no\\_beta.txt   & Red cell distribution width & EFO\\_0005192\\\\\n",
       "\t rs2606736   & 0.5000 & dmr759136  & 1.35033e-19 & GCST90000064 & rs2606736   &           NA &  1 & 0 & 1 & Th-Mem   & Th-Mem.quant.no\\_beta.txt     & Hypertension                & EFO\\_0000537\\\\\n",
       "\t rs117455353 & 0.4565 & dmr1255391 & 2.35883e-18 & GCST90296614 & rs117455353 & 3.122842e-09 &  1 & 0 & 1 & Tc-Naive & Tc-Naive.quant.with\\_beta.txt & Arthritis                   & EFO\\_0005856\\\\\n",
       "\\end{tabular}\n"
      ],
      "text/markdown": [
       "\n",
       "A data.table: 6 × 14\n",
       "\n",
       "| snp &lt;chr&gt; | MAF &lt;dbl&gt; | dmr_id &lt;chr&gt; | pvalues &lt;dbl&gt; | phe2 &lt;chr&gt; | snp2 &lt;chr&gt; | pvalues2 &lt;dbl&gt; | n_snps &lt;dbl&gt; | PP3 &lt;dbl&gt; | PP4 &lt;dbl&gt; | Name &lt;chr&gt; | file &lt;chr&gt; | trait_description &lt;chr&gt; | ontology_mapping &lt;chr&gt; |\n",
       "|---|---|---|---|---|---|---|---|---|---|---|---|---|---|\n",
       "| rs34950321  | 0.3430 | dmr938063  | 9.02598e-35 | GCST90002361 | rs34950321  |           NA | 23 | 0 | 1 | Monocyte | Monocyte.quant.no_beta.txt   | Platelet count              | EFO_0004309 |\n",
       "| rs2606736   | 0.5000 | dmr846958  | 9.52361e-25 | GCST90000064 | rs2606736   |           NA |  1 | 0 | 1 | Th-Naive | Th-Naive.quant.no_beta.txt   | Hypertension                | EFO_0000537 |\n",
       "| rs2606736   | 0.5000 | dmr1668545 | 3.50297e-21 | GCST90000064 | rs2606736   |           NA |  1 | 0 | 1 | Tc-Mem   | Tc-Mem.quant.no_beta.txt     | Hypertension                | EFO_0000537 |\n",
       "| rs112802399 | 0.5000 | dmr552486  | 2.95551e-20 | GCST90002372 | rs112802399 |           NA |  1 | 0 | 1 | Tc-Naive | Tc-Naive.quant.no_beta.txt   | Red cell distribution width | EFO_0005192 |\n",
       "| rs2606736   | 0.5000 | dmr759136  | 1.35033e-19 | GCST90000064 | rs2606736   |           NA |  1 | 0 | 1 | Th-Mem   | Th-Mem.quant.no_beta.txt     | Hypertension                | EFO_0000537 |\n",
       "| rs117455353 | 0.4565 | dmr1255391 | 2.35883e-18 | GCST90296614 | rs117455353 | 3.122842e-09 |  1 | 0 | 1 | Tc-Naive | Tc-Naive.quant.with_beta.txt | Arthritis                   | EFO_0005856 |\n",
       "\n"
      ],
      "text/plain": [
       "  snp         MAF    dmr_id     pvalues     phe2         snp2       \n",
       "1 rs34950321  0.3430 dmr938063  9.02598e-35 GCST90002361 rs34950321 \n",
       "2 rs2606736   0.5000 dmr846958  9.52361e-25 GCST90000064 rs2606736  \n",
       "3 rs2606736   0.5000 dmr1668545 3.50297e-21 GCST90000064 rs2606736  \n",
       "4 rs112802399 0.5000 dmr552486  2.95551e-20 GCST90002372 rs112802399\n",
       "5 rs2606736   0.5000 dmr759136  1.35033e-19 GCST90000064 rs2606736  \n",
       "6 rs117455353 0.4565 dmr1255391 2.35883e-18 GCST90296614 rs117455353\n",
       "  pvalues2     n_snps PP3 PP4 Name     file                        \n",
       "1           NA 23     0   1   Monocyte Monocyte.quant.no_beta.txt  \n",
       "2           NA  1     0   1   Th-Naive Th-Naive.quant.no_beta.txt  \n",
       "3           NA  1     0   1   Tc-Mem   Tc-Mem.quant.no_beta.txt    \n",
       "4           NA  1     0   1   Tc-Naive Tc-Naive.quant.no_beta.txt  \n",
       "5           NA  1     0   1   Th-Mem   Th-Mem.quant.no_beta.txt    \n",
       "6 3.122842e-09  1     0   1   Tc-Naive Tc-Naive.quant.with_beta.txt\n",
       "  trait_description           ontology_mapping\n",
       "1 Platelet count              EFO_0004309     \n",
       "2 Hypertension                EFO_0000537     \n",
       "3 Hypertension                EFO_0000537     \n",
       "4 Red cell distribution width EFO_0005192     \n",
       "5 Hypertension                EFO_0000537     \n",
       "6 Arthritis                   EFO_0005856     "
      ]
     },
     "metadata": {},
     "output_type": "display_data"
    }
   ],
   "source": [
    "df = fread(\"coloc_results.tsv\") %>% dplyr::select(snp,MAF,dmr_id, pvalues, phe2, snp2, pvalues2,n_snps,PP3,PP4,Name,file,trait_description,ontology_mapping)\n",
    "head(df)"
   ]
  },
  {
   "cell_type": "markdown",
   "id": "2b9efc2c-9ee9-42a2-9c19-b9a9322b4caa",
   "metadata": {},
   "source": [
    "## Parameters"
   ]
  },
  {
   "cell_type": "code",
   "execution_count": 164,
   "id": "e8f9561c-d752-44b0-a64c-12f01aa098a2",
   "metadata": {
    "tags": [
     "parameters"
    ],
    "vscode": {
     "languageId": "r"
    }
   },
   "outputs": [],
   "source": [
    "dmr=\"dmr565720\"\n",
    "snp=\"rs66626994\"\n",
    "gwas=\"GCST90276157\"\n",
    "snp2=snp\n",
    "outdir=paste0(dmr,\"_\",gwas)\n",
    "infile=\"~/project_wubin/ECHO/coloc_results/Th-Naive.cc.with_beta.rda\""
   ]
  },
  {
   "cell_type": "code",
   "execution_count": 3,
   "id": "92558731-7cce-4381-8773-6c2ab2d2dc4a",
   "metadata": {
    "vscode": {
     "languageId": "r"
    }
   },
   "outputs": [
    {
     "data": {
      "text/html": [
       "<dl>\n",
       "\t<dt>$snp</dt>\n",
       "\t\t<dd><style>\n",
       ".list-inline {list-style: none; margin:0; padding: 0}\n",
       ".list-inline>li {display: inline-block}\n",
       ".list-inline>li:not(:last-child)::after {content: \"\\00b7\"; padding: 0 .5ex}\n",
       "</style>\n",
       "<ol class=list-inline><li>'rs66626994'</li><li>'rs1160985'</li><li>'rs12721046'</li></ol>\n",
       "</dd>\n",
       "\t<dt>$MAF</dt>\n",
       "\t\t<dd><style>\n",
       ".list-inline {list-style: none; margin:0; padding: 0}\n",
       ".list-inline>li {display: inline-block}\n",
       ".list-inline>li:not(:last-child)::after {content: \"\\00b7\"; padding: 0 .5ex}\n",
       "</style>\n",
       "<ol class=list-inline><li>0.4995</li><li>0.4975</li><li>0.5</li></ol>\n",
       "</dd>\n",
       "\t<dt>$dmr_id</dt>\n",
       "\t\t<dd><style>\n",
       ".list-inline {list-style: none; margin:0; padding: 0}\n",
       ".list-inline>li {display: inline-block}\n",
       ".list-inline>li:not(:last-child)::after {content: \"\\00b7\"; padding: 0 .5ex}\n",
       "</style>\n",
       "<ol class=list-inline><li>'dmr565720'</li><li>'dmr1238842'</li><li>'dmr627424'</li></ol>\n",
       "</dd>\n",
       "\t<dt>$pvalues</dt>\n",
       "\t\t<dd><style>\n",
       ".list-inline {list-style: none; margin:0; padding: 0}\n",
       ".list-inline>li {display: inline-block}\n",
       ".list-inline>li:not(:last-child)::after {content: \"\\00b7\"; padding: 0 .5ex}\n",
       "</style>\n",
       "<ol class=list-inline><li>1.60422e-05</li><li>9.497e-06</li><li>3.23155e-12</li></ol>\n",
       "</dd>\n",
       "\t<dt>$phe2</dt>\n",
       "\t\t<dd><style>\n",
       ".list-inline {list-style: none; margin:0; padding: 0}\n",
       ".list-inline>li {display: inline-block}\n",
       ".list-inline>li:not(:last-child)::after {content: \"\\00b7\"; padding: 0 .5ex}\n",
       "</style>\n",
       "<ol class=list-inline><li>'GCST90276157'</li><li>'GCST90276157'</li><li>'GCST90276157'</li></ol>\n",
       "</dd>\n",
       "\t<dt>$snp2</dt>\n",
       "\t\t<dd><style>\n",
       ".list-inline {list-style: none; margin:0; padding: 0}\n",
       ".list-inline>li {display: inline-block}\n",
       ".list-inline>li:not(:last-child)::after {content: \"\\00b7\"; padding: 0 .5ex}\n",
       "</style>\n",
       "<ol class=list-inline><li>'rs429358'</li><li>'rs429358'</li><li>'rs429358'</li></ol>\n",
       "</dd>\n",
       "\t<dt>$pvalues2</dt>\n",
       "\t\t<dd><style>\n",
       ".list-inline {list-style: none; margin:0; padding: 0}\n",
       ".list-inline>li {display: inline-block}\n",
       ".list-inline>li:not(:last-child)::after {content: \"\\00b7\"; padding: 0 .5ex}\n",
       "</style>\n",
       "<ol class=list-inline><li>&lt;NA&gt;</li><li>&lt;NA&gt;</li><li>&lt;NA&gt;</li></ol>\n",
       "</dd>\n",
       "\t<dt>$n_snps</dt>\n",
       "\t\t<dd><style>\n",
       ".list-inline {list-style: none; margin:0; padding: 0}\n",
       ".list-inline>li {display: inline-block}\n",
       ".list-inline>li:not(:last-child)::after {content: \"\\00b7\"; padding: 0 .5ex}\n",
       "</style>\n",
       "<ol class=list-inline><li>11</li><li>7</li><li>23</li></ol>\n",
       "</dd>\n",
       "\t<dt>$PP3</dt>\n",
       "\t\t<dd><style>\n",
       ".list-inline {list-style: none; margin:0; padding: 0}\n",
       ".list-inline>li {display: inline-block}\n",
       ".list-inline>li:not(:last-child)::after {content: \"\\00b7\"; padding: 0 .5ex}\n",
       "</style>\n",
       "<ol class=list-inline><li>0.0132371909380451</li><li>0.004148812344767</li><li>0.403007764548756</li></ol>\n",
       "</dd>\n",
       "\t<dt>$PP4</dt>\n",
       "\t\t<dd><style>\n",
       ".list-inline {list-style: none; margin:0; padding: 0}\n",
       ".list-inline>li {display: inline-block}\n",
       ".list-inline>li:not(:last-child)::after {content: \"\\00b7\"; padding: 0 .5ex}\n",
       "</style>\n",
       "<ol class=list-inline><li>0.728227517252283</li><li>0.687261064458438</li><li>0.592451643100367</li></ol>\n",
       "</dd>\n",
       "\t<dt>$Name</dt>\n",
       "\t\t<dd><style>\n",
       ".list-inline {list-style: none; margin:0; padding: 0}\n",
       ".list-inline>li {display: inline-block}\n",
       ".list-inline>li:not(:last-child)::after {content: \"\\00b7\"; padding: 0 .5ex}\n",
       "</style>\n",
       "<ol class=list-inline><li>'Th-Mem'</li><li>'Tc-Mem'</li><li>'Tc-Naive'</li></ol>\n",
       "</dd>\n",
       "\t<dt>$file</dt>\n",
       "\t\t<dd><style>\n",
       ".list-inline {list-style: none; margin:0; padding: 0}\n",
       ".list-inline>li {display: inline-block}\n",
       ".list-inline>li:not(:last-child)::after {content: \"\\00b7\"; padding: 0 .5ex}\n",
       "</style>\n",
       "<ol class=list-inline><li>'Th-Mem.cc.no_beta.txt'</li><li>'Tc-Mem.cc.no_beta.txt'</li><li>'Tc-Naive.cc.no_beta.txt'</li></ol>\n",
       "</dd>\n",
       "\t<dt>$trait_description</dt>\n",
       "\t\t<dd><style>\n",
       ".list-inline {list-style: none; margin:0; padding: 0}\n",
       ".list-inline>li {display: inline-block}\n",
       ".list-inline>li:not(:last-child)::after {content: \"\\00b7\"; padding: 0 .5ex}\n",
       "</style>\n",
       "<ol class=list-inline><li>'Alzheimer\\'s disease and Lewy body co-pathology'</li><li>'Alzheimer\\'s disease and Lewy body co-pathology'</li><li>'Alzheimer\\'s disease and Lewy body co-pathology'</li></ol>\n",
       "</dd>\n",
       "\t<dt>$ontology_mapping</dt>\n",
       "\t\t<dd><style>\n",
       ".list-inline {list-style: none; margin:0; padding: 0}\n",
       ".list-inline>li {display: inline-block}\n",
       ".list-inline>li:not(:last-child)::after {content: \"\\00b7\"; padding: 0 .5ex}\n",
       "</style>\n",
       "<ol class=list-inline><li>'MONDO_0004975;EFO_0006792'</li><li>'MONDO_0004975;EFO_0006792'</li><li>'MONDO_0004975;EFO_0006792'</li></ol>\n",
       "</dd>\n",
       "</dl>\n"
      ],
      "text/latex": [
       "\\begin{description}\n",
       "\\item[\\$snp] \\begin{enumerate*}\n",
       "\\item 'rs66626994'\n",
       "\\item 'rs1160985'\n",
       "\\item 'rs12721046'\n",
       "\\end{enumerate*}\n",
       "\n",
       "\\item[\\$MAF] \\begin{enumerate*}\n",
       "\\item 0.4995\n",
       "\\item 0.4975\n",
       "\\item 0.5\n",
       "\\end{enumerate*}\n",
       "\n",
       "\\item[\\$dmr\\_id] \\begin{enumerate*}\n",
       "\\item 'dmr565720'\n",
       "\\item 'dmr1238842'\n",
       "\\item 'dmr627424'\n",
       "\\end{enumerate*}\n",
       "\n",
       "\\item[\\$pvalues] \\begin{enumerate*}\n",
       "\\item 1.60422e-05\n",
       "\\item 9.497e-06\n",
       "\\item 3.23155e-12\n",
       "\\end{enumerate*}\n",
       "\n",
       "\\item[\\$phe2] \\begin{enumerate*}\n",
       "\\item 'GCST90276157'\n",
       "\\item 'GCST90276157'\n",
       "\\item 'GCST90276157'\n",
       "\\end{enumerate*}\n",
       "\n",
       "\\item[\\$snp2] \\begin{enumerate*}\n",
       "\\item 'rs429358'\n",
       "\\item 'rs429358'\n",
       "\\item 'rs429358'\n",
       "\\end{enumerate*}\n",
       "\n",
       "\\item[\\$pvalues2] \\begin{enumerate*}\n",
       "\\item <NA>\n",
       "\\item <NA>\n",
       "\\item <NA>\n",
       "\\end{enumerate*}\n",
       "\n",
       "\\item[\\$n\\_snps] \\begin{enumerate*}\n",
       "\\item 11\n",
       "\\item 7\n",
       "\\item 23\n",
       "\\end{enumerate*}\n",
       "\n",
       "\\item[\\$PP3] \\begin{enumerate*}\n",
       "\\item 0.0132371909380451\n",
       "\\item 0.004148812344767\n",
       "\\item 0.403007764548756\n",
       "\\end{enumerate*}\n",
       "\n",
       "\\item[\\$PP4] \\begin{enumerate*}\n",
       "\\item 0.728227517252283\n",
       "\\item 0.687261064458438\n",
       "\\item 0.592451643100367\n",
       "\\end{enumerate*}\n",
       "\n",
       "\\item[\\$Name] \\begin{enumerate*}\n",
       "\\item 'Th-Mem'\n",
       "\\item 'Tc-Mem'\n",
       "\\item 'Tc-Naive'\n",
       "\\end{enumerate*}\n",
       "\n",
       "\\item[\\$file] \\begin{enumerate*}\n",
       "\\item 'Th-Mem.cc.no\\_beta.txt'\n",
       "\\item 'Tc-Mem.cc.no\\_beta.txt'\n",
       "\\item 'Tc-Naive.cc.no\\_beta.txt'\n",
       "\\end{enumerate*}\n",
       "\n",
       "\\item[\\$trait\\_description] \\begin{enumerate*}\n",
       "\\item 'Alzheimer\\textbackslash{}'s disease and Lewy body co-pathology'\n",
       "\\item 'Alzheimer\\textbackslash{}'s disease and Lewy body co-pathology'\n",
       "\\item 'Alzheimer\\textbackslash{}'s disease and Lewy body co-pathology'\n",
       "\\end{enumerate*}\n",
       "\n",
       "\\item[\\$ontology\\_mapping] \\begin{enumerate*}\n",
       "\\item 'MONDO\\_0004975;EFO\\_0006792'\n",
       "\\item 'MONDO\\_0004975;EFO\\_0006792'\n",
       "\\item 'MONDO\\_0004975;EFO\\_0006792'\n",
       "\\end{enumerate*}\n",
       "\n",
       "\\end{description}\n"
      ],
      "text/markdown": [
       "$snp\n",
       ":   1. 'rs66626994'\n",
       "2. 'rs1160985'\n",
       "3. 'rs12721046'\n",
       "\n",
       "\n",
       "\n",
       "$MAF\n",
       ":   1. 0.4995\n",
       "2. 0.4975\n",
       "3. 0.5\n",
       "\n",
       "\n",
       "\n",
       "$dmr_id\n",
       ":   1. 'dmr565720'\n",
       "2. 'dmr1238842'\n",
       "3. 'dmr627424'\n",
       "\n",
       "\n",
       "\n",
       "$pvalues\n",
       ":   1. 1.60422e-05\n",
       "2. 9.497e-06\n",
       "3. 3.23155e-12\n",
       "\n",
       "\n",
       "\n",
       "$phe2\n",
       ":   1. 'GCST90276157'\n",
       "2. 'GCST90276157'\n",
       "3. 'GCST90276157'\n",
       "\n",
       "\n",
       "\n",
       "$snp2\n",
       ":   1. 'rs429358'\n",
       "2. 'rs429358'\n",
       "3. 'rs429358'\n",
       "\n",
       "\n",
       "\n",
       "$pvalues2\n",
       ":   1. &lt;NA&gt;\n",
       "2. &lt;NA&gt;\n",
       "3. &lt;NA&gt;\n",
       "\n",
       "\n",
       "\n",
       "$n_snps\n",
       ":   1. 11\n",
       "2. 7\n",
       "3. 23\n",
       "\n",
       "\n",
       "\n",
       "$PP3\n",
       ":   1. 0.0132371909380451\n",
       "2. 0.004148812344767\n",
       "3. 0.403007764548756\n",
       "\n",
       "\n",
       "\n",
       "$PP4\n",
       ":   1. 0.728227517252283\n",
       "2. 0.687261064458438\n",
       "3. 0.592451643100367\n",
       "\n",
       "\n",
       "\n",
       "$Name\n",
       ":   1. 'Th-Mem'\n",
       "2. 'Tc-Mem'\n",
       "3. 'Tc-Naive'\n",
       "\n",
       "\n",
       "\n",
       "$file\n",
       ":   1. 'Th-Mem.cc.no_beta.txt'\n",
       "2. 'Tc-Mem.cc.no_beta.txt'\n",
       "3. 'Tc-Naive.cc.no_beta.txt'\n",
       "\n",
       "\n",
       "\n",
       "$trait_description\n",
       ":   1. 'Alzheimer\\'s disease and Lewy body co-pathology'\n",
       "2. 'Alzheimer\\'s disease and Lewy body co-pathology'\n",
       "3. 'Alzheimer\\'s disease and Lewy body co-pathology'\n",
       "\n",
       "\n",
       "\n",
       "$ontology_mapping\n",
       ":   1. 'MONDO_0004975;EFO_0006792'\n",
       "2. 'MONDO_0004975;EFO_0006792'\n",
       "3. 'MONDO_0004975;EFO_0006792'\n",
       "\n",
       "\n",
       "\n",
       "\n",
       "\n"
      ],
      "text/plain": [
       "$snp\n",
       "[1] \"rs66626994\" \"rs1160985\"  \"rs12721046\"\n",
       "\n",
       "$MAF\n",
       "[1] 0.4995 0.4975 0.5000\n",
       "\n",
       "$dmr_id\n",
       "[1] \"dmr565720\"  \"dmr1238842\" \"dmr627424\" \n",
       "\n",
       "$pvalues\n",
       "[1] 1.60422e-05 9.49700e-06 3.23155e-12\n",
       "\n",
       "$phe2\n",
       "[1] \"GCST90276157\" \"GCST90276157\" \"GCST90276157\"\n",
       "\n",
       "$snp2\n",
       "[1] \"rs429358\" \"rs429358\" \"rs429358\"\n",
       "\n",
       "$pvalues2\n",
       "[1] NA NA NA\n",
       "\n",
       "$n_snps\n",
       "[1] 11  7 23\n",
       "\n",
       "$PP3\n",
       "[1] 0.013237191 0.004148812 0.403007765\n",
       "\n",
       "$PP4\n",
       "[1] 0.7282275 0.6872611 0.5924516\n",
       "\n",
       "$Name\n",
       "[1] \"Th-Mem\"   \"Tc-Mem\"   \"Tc-Naive\"\n",
       "\n",
       "$file\n",
       "[1] \"Th-Mem.cc.no_beta.txt\"   \"Tc-Mem.cc.no_beta.txt\"  \n",
       "[3] \"Tc-Naive.cc.no_beta.txt\"\n",
       "\n",
       "$trait_description\n",
       "[1] \"Alzheimer's disease and Lewy body co-pathology\"\n",
       "[2] \"Alzheimer's disease and Lewy body co-pathology\"\n",
       "[3] \"Alzheimer's disease and Lewy body co-pathology\"\n",
       "\n",
       "$ontology_mapping\n",
       "[1] \"MONDO_0004975;EFO_0006792\" \"MONDO_0004975;EFO_0006792\"\n",
       "[3] \"MONDO_0004975;EFO_0006792\"\n"
      ]
     },
     "metadata": {},
     "output_type": "display_data"
    }
   ],
   "source": [
    "# trait=\"Alzheimer's disease and Lewy body co-pathology\"\n",
    "# summary <- df %>% dplyr::filter(trait_description==trait, PP4 > 0.5) %>% as.list()\n",
    "# summary"
   ]
  },
  {
   "cell_type": "code",
   "execution_count": 12,
   "id": "8143010a-cd06-4196-8dcf-0dda84f83638",
   "metadata": {
    "vscode": {
     "languageId": "r"
    }
   },
   "outputs": [
    {
     "data": {
      "text/html": [
       "<dl>\n",
       "\t<dt>$snp</dt>\n",
       "\t\t<dd><style>\n",
       ".list-inline {list-style: none; margin:0; padding: 0}\n",
       ".list-inline>li {display: inline-block}\n",
       ".list-inline>li:not(:last-child)::after {content: \"\\00b7\"; padding: 0 .5ex}\n",
       "</style>\n",
       "<ol class=list-inline><li>'rs3134932'</li><li>'rs910320'</li><li>'rs2524137'</li></ol>\n",
       "</dd>\n",
       "\t<dt>$MAF</dt>\n",
       "\t\t<dd><style>\n",
       ".list-inline {list-style: none; margin:0; padding: 0}\n",
       ".list-inline>li {display: inline-block}\n",
       ".list-inline>li:not(:last-child)::after {content: \"\\00b7\"; padding: 0 .5ex}\n",
       "</style>\n",
       "<ol class=list-inline><li>0.5</li><li>0.5</li><li>0.5</li></ol>\n",
       "</dd>\n",
       "\t<dt>$dmr_id</dt>\n",
       "\t\t<dd><style>\n",
       ".list-inline {list-style: none; margin:0; padding: 0}\n",
       ".list-inline>li {display: inline-block}\n",
       ".list-inline>li:not(:last-child)::after {content: \"\\00b7\"; padding: 0 .5ex}\n",
       "</style>\n",
       "<ol class=list-inline><li>'dmr2244807'</li><li>'dmr1118825'</li><li>'dmr1117335'</li></ol>\n",
       "</dd>\n",
       "\t<dt>$pvalues</dt>\n",
       "\t\t<dd><style>\n",
       ".list-inline {list-style: none; margin:0; padding: 0}\n",
       ".list-inline>li {display: inline-block}\n",
       ".list-inline>li:not(:last-child)::after {content: \"\\00b7\"; padding: 0 .5ex}\n",
       "</style>\n",
       "<ol class=list-inline><li>4.35035e-11</li><li>1.05559e-09</li><li>4.56707e-10</li></ol>\n",
       "</dd>\n",
       "\t<dt>$phe2</dt>\n",
       "\t\t<dd><style>\n",
       ".list-inline {list-style: none; margin:0; padding: 0}\n",
       ".list-inline>li {display: inline-block}\n",
       ".list-inline>li:not(:last-child)::after {content: \"\\00b7\"; padding: 0 .5ex}\n",
       "</style>\n",
       "<ol class=list-inline><li>'GCST90011871'</li><li>'GCST90011871'</li><li>'GCST90011871'</li></ol>\n",
       "</dd>\n",
       "\t<dt>$snp2</dt>\n",
       "\t\t<dd><style>\n",
       ".list-inline {list-style: none; margin:0; padding: 0}\n",
       ".list-inline>li {display: inline-block}\n",
       ".list-inline>li:not(:last-child)::after {content: \"\\00b7\"; padding: 0 .5ex}\n",
       "</style>\n",
       "<ol class=list-inline><li>'rs3134932'</li><li>'rs910320'</li><li>'rs2524137'</li></ol>\n",
       "</dd>\n",
       "\t<dt>$pvalues2</dt>\n",
       "\t\t<dd><style>\n",
       ".list-inline {list-style: none; margin:0; padding: 0}\n",
       ".list-inline>li {display: inline-block}\n",
       ".list-inline>li:not(:last-child)::after {content: \"\\00b7\"; padding: 0 .5ex}\n",
       "</style>\n",
       "<ol class=list-inline><li>&lt;NA&gt;</li><li>&lt;NA&gt;</li><li>&lt;NA&gt;</li></ol>\n",
       "</dd>\n",
       "\t<dt>$n_snps</dt>\n",
       "\t\t<dd><style>\n",
       ".list-inline {list-style: none; margin:0; padding: 0}\n",
       ".list-inline>li {display: inline-block}\n",
       ".list-inline>li:not(:last-child)::after {content: \"\\00b7\"; padding: 0 .5ex}\n",
       "</style>\n",
       "<ol class=list-inline><li>74</li><li>124</li><li>371</li></ol>\n",
       "</dd>\n",
       "\t<dt>$PP3</dt>\n",
       "\t\t<dd><style>\n",
       ".list-inline {list-style: none; margin:0; padding: 0}\n",
       ".list-inline>li {display: inline-block}\n",
       ".list-inline>li:not(:last-child)::after {content: \"\\00b7\"; padding: 0 .5ex}\n",
       "</style>\n",
       "<ol class=list-inline><li>0.0041719293747838</li><li>0.0049742469055082</li><li>0.0142244616310194</li></ol>\n",
       "</dd>\n",
       "\t<dt>$PP4</dt>\n",
       "\t\t<dd><style>\n",
       ".list-inline {list-style: none; margin:0; padding: 0}\n",
       ".list-inline>li {display: inline-block}\n",
       ".list-inline>li:not(:last-child)::after {content: \"\\00b7\"; padding: 0 .5ex}\n",
       "</style>\n",
       "<ol class=list-inline><li>0.995717529392095</li><li>0.994238280693369</li><li>0.984402721020815</li></ol>\n",
       "</dd>\n",
       "\t<dt>$Name</dt>\n",
       "\t\t<dd><style>\n",
       ".list-inline {list-style: none; margin:0; padding: 0}\n",
       ".list-inline>li {display: inline-block}\n",
       ".list-inline>li:not(:last-child)::after {content: \"\\00b7\"; padding: 0 .5ex}\n",
       "</style>\n",
       "<ol class=list-inline><li>'Tc-Mem'</li><li>'Tc-Naive'</li><li>'Tc-Naive'</li></ol>\n",
       "</dd>\n",
       "\t<dt>$file</dt>\n",
       "\t\t<dd><style>\n",
       ".list-inline {list-style: none; margin:0; padding: 0}\n",
       ".list-inline>li {display: inline-block}\n",
       ".list-inline>li:not(:last-child)::after {content: \"\\00b7\"; padding: 0 .5ex}\n",
       "</style>\n",
       "<ol class=list-inline><li>'Tc-Mem.cc.no_beta.txt'</li><li>'Tc-Naive.cc.no_beta.txt'</li><li>'Tc-Naive.cc.no_beta.txt'</li></ol>\n",
       "</dd>\n",
       "\t<dt>$trait_description</dt>\n",
       "\t\t<dd><style>\n",
       ".list-inline {list-style: none; margin:0; padding: 0}\n",
       ".list-inline>li {display: inline-block}\n",
       ".list-inline>li:not(:last-child)::after {content: \"\\00b7\"; padding: 0 .5ex}\n",
       "</style>\n",
       "<ol class=list-inline><li>'Addison\\'s disease'</li><li>'Addison\\'s disease'</li><li>'Addison\\'s disease'</li></ol>\n",
       "</dd>\n",
       "\t<dt>$ontology_mapping</dt>\n",
       "\t\t<dd><style>\n",
       ".list-inline {list-style: none; margin:0; padding: 0}\n",
       ".list-inline>li {display: inline-block}\n",
       ".list-inline>li:not(:last-child)::after {content: \"\\00b7\"; padding: 0 .5ex}\n",
       "</style>\n",
       "<ol class=list-inline><li>'Orphanet_101960'</li><li>'Orphanet_101960'</li><li>'Orphanet_101960'</li></ol>\n",
       "</dd>\n",
       "</dl>\n"
      ],
      "text/latex": [
       "\\begin{description}\n",
       "\\item[\\$snp] \\begin{enumerate*}\n",
       "\\item 'rs3134932'\n",
       "\\item 'rs910320'\n",
       "\\item 'rs2524137'\n",
       "\\end{enumerate*}\n",
       "\n",
       "\\item[\\$MAF] \\begin{enumerate*}\n",
       "\\item 0.5\n",
       "\\item 0.5\n",
       "\\item 0.5\n",
       "\\end{enumerate*}\n",
       "\n",
       "\\item[\\$dmr\\_id] \\begin{enumerate*}\n",
       "\\item 'dmr2244807'\n",
       "\\item 'dmr1118825'\n",
       "\\item 'dmr1117335'\n",
       "\\end{enumerate*}\n",
       "\n",
       "\\item[\\$pvalues] \\begin{enumerate*}\n",
       "\\item 4.35035e-11\n",
       "\\item 1.05559e-09\n",
       "\\item 4.56707e-10\n",
       "\\end{enumerate*}\n",
       "\n",
       "\\item[\\$phe2] \\begin{enumerate*}\n",
       "\\item 'GCST90011871'\n",
       "\\item 'GCST90011871'\n",
       "\\item 'GCST90011871'\n",
       "\\end{enumerate*}\n",
       "\n",
       "\\item[\\$snp2] \\begin{enumerate*}\n",
       "\\item 'rs3134932'\n",
       "\\item 'rs910320'\n",
       "\\item 'rs2524137'\n",
       "\\end{enumerate*}\n",
       "\n",
       "\\item[\\$pvalues2] \\begin{enumerate*}\n",
       "\\item <NA>\n",
       "\\item <NA>\n",
       "\\item <NA>\n",
       "\\end{enumerate*}\n",
       "\n",
       "\\item[\\$n\\_snps] \\begin{enumerate*}\n",
       "\\item 74\n",
       "\\item 124\n",
       "\\item 371\n",
       "\\end{enumerate*}\n",
       "\n",
       "\\item[\\$PP3] \\begin{enumerate*}\n",
       "\\item 0.0041719293747838\n",
       "\\item 0.0049742469055082\n",
       "\\item 0.0142244616310194\n",
       "\\end{enumerate*}\n",
       "\n",
       "\\item[\\$PP4] \\begin{enumerate*}\n",
       "\\item 0.995717529392095\n",
       "\\item 0.994238280693369\n",
       "\\item 0.984402721020815\n",
       "\\end{enumerate*}\n",
       "\n",
       "\\item[\\$Name] \\begin{enumerate*}\n",
       "\\item 'Tc-Mem'\n",
       "\\item 'Tc-Naive'\n",
       "\\item 'Tc-Naive'\n",
       "\\end{enumerate*}\n",
       "\n",
       "\\item[\\$file] \\begin{enumerate*}\n",
       "\\item 'Tc-Mem.cc.no\\_beta.txt'\n",
       "\\item 'Tc-Naive.cc.no\\_beta.txt'\n",
       "\\item 'Tc-Naive.cc.no\\_beta.txt'\n",
       "\\end{enumerate*}\n",
       "\n",
       "\\item[\\$trait\\_description] \\begin{enumerate*}\n",
       "\\item 'Addison\\textbackslash{}'s disease'\n",
       "\\item 'Addison\\textbackslash{}'s disease'\n",
       "\\item 'Addison\\textbackslash{}'s disease'\n",
       "\\end{enumerate*}\n",
       "\n",
       "\\item[\\$ontology\\_mapping] \\begin{enumerate*}\n",
       "\\item 'Orphanet\\_101960'\n",
       "\\item 'Orphanet\\_101960'\n",
       "\\item 'Orphanet\\_101960'\n",
       "\\end{enumerate*}\n",
       "\n",
       "\\end{description}\n"
      ],
      "text/markdown": [
       "$snp\n",
       ":   1. 'rs3134932'\n",
       "2. 'rs910320'\n",
       "3. 'rs2524137'\n",
       "\n",
       "\n",
       "\n",
       "$MAF\n",
       ":   1. 0.5\n",
       "2. 0.5\n",
       "3. 0.5\n",
       "\n",
       "\n",
       "\n",
       "$dmr_id\n",
       ":   1. 'dmr2244807'\n",
       "2. 'dmr1118825'\n",
       "3. 'dmr1117335'\n",
       "\n",
       "\n",
       "\n",
       "$pvalues\n",
       ":   1. 4.35035e-11\n",
       "2. 1.05559e-09\n",
       "3. 4.56707e-10\n",
       "\n",
       "\n",
       "\n",
       "$phe2\n",
       ":   1. 'GCST90011871'\n",
       "2. 'GCST90011871'\n",
       "3. 'GCST90011871'\n",
       "\n",
       "\n",
       "\n",
       "$snp2\n",
       ":   1. 'rs3134932'\n",
       "2. 'rs910320'\n",
       "3. 'rs2524137'\n",
       "\n",
       "\n",
       "\n",
       "$pvalues2\n",
       ":   1. &lt;NA&gt;\n",
       "2. &lt;NA&gt;\n",
       "3. &lt;NA&gt;\n",
       "\n",
       "\n",
       "\n",
       "$n_snps\n",
       ":   1. 74\n",
       "2. 124\n",
       "3. 371\n",
       "\n",
       "\n",
       "\n",
       "$PP3\n",
       ":   1. 0.0041719293747838\n",
       "2. 0.0049742469055082\n",
       "3. 0.0142244616310194\n",
       "\n",
       "\n",
       "\n",
       "$PP4\n",
       ":   1. 0.995717529392095\n",
       "2. 0.994238280693369\n",
       "3. 0.984402721020815\n",
       "\n",
       "\n",
       "\n",
       "$Name\n",
       ":   1. 'Tc-Mem'\n",
       "2. 'Tc-Naive'\n",
       "3. 'Tc-Naive'\n",
       "\n",
       "\n",
       "\n",
       "$file\n",
       ":   1. 'Tc-Mem.cc.no_beta.txt'\n",
       "2. 'Tc-Naive.cc.no_beta.txt'\n",
       "3. 'Tc-Naive.cc.no_beta.txt'\n",
       "\n",
       "\n",
       "\n",
       "$trait_description\n",
       ":   1. 'Addison\\'s disease'\n",
       "2. 'Addison\\'s disease'\n",
       "3. 'Addison\\'s disease'\n",
       "\n",
       "\n",
       "\n",
       "$ontology_mapping\n",
       ":   1. 'Orphanet_101960'\n",
       "2. 'Orphanet_101960'\n",
       "3. 'Orphanet_101960'\n",
       "\n",
       "\n",
       "\n",
       "\n",
       "\n"
      ],
      "text/plain": [
       "$snp\n",
       "[1] \"rs3134932\" \"rs910320\"  \"rs2524137\"\n",
       "\n",
       "$MAF\n",
       "[1] 0.5 0.5 0.5\n",
       "\n",
       "$dmr_id\n",
       "[1] \"dmr2244807\" \"dmr1118825\" \"dmr1117335\"\n",
       "\n",
       "$pvalues\n",
       "[1] 4.35035e-11 1.05559e-09 4.56707e-10\n",
       "\n",
       "$phe2\n",
       "[1] \"GCST90011871\" \"GCST90011871\" \"GCST90011871\"\n",
       "\n",
       "$snp2\n",
       "[1] \"rs3134932\" \"rs910320\"  \"rs2524137\"\n",
       "\n",
       "$pvalues2\n",
       "[1] NA NA NA\n",
       "\n",
       "$n_snps\n",
       "[1]  74 124 371\n",
       "\n",
       "$PP3\n",
       "[1] 0.004171929 0.004974247 0.014224462\n",
       "\n",
       "$PP4\n",
       "[1] 0.9957175 0.9942383 0.9844027\n",
       "\n",
       "$Name\n",
       "[1] \"Tc-Mem\"   \"Tc-Naive\" \"Tc-Naive\"\n",
       "\n",
       "$file\n",
       "[1] \"Tc-Mem.cc.no_beta.txt\"   \"Tc-Naive.cc.no_beta.txt\"\n",
       "[3] \"Tc-Naive.cc.no_beta.txt\"\n",
       "\n",
       "$trait_description\n",
       "[1] \"Addison's disease\" \"Addison's disease\" \"Addison's disease\"\n",
       "\n",
       "$ontology_mapping\n",
       "[1] \"Orphanet_101960\" \"Orphanet_101960\" \"Orphanet_101960\"\n"
      ]
     },
     "metadata": {},
     "output_type": "display_data"
    }
   ],
   "source": [
    "trait=\"Addison's disease\"\n",
    "summary <- df %>% dplyr::filter(trait_description==trait, PP4 > 0.98,n_snps>50) %>% as.list()\n",
    "summary"
   ]
  },
  {
   "cell_type": "code",
   "execution_count": 13,
   "id": "982a2f27-eb0b-4145-9101-83cfb998c43d",
   "metadata": {
    "vscode": {
     "languageId": "r"
    }
   },
   "outputs": [
    {
     "name": "stdout",
     "output_type": "stream",
     "text": [
      "[1] \"rs3134932,dmr2244807,GCST90011871,rs3134932,coloc_results/Tc-Mem.cc.no_beta.rda\"\n",
      "[1] \"create outdir : Tc-Mem_dmr2244807_GCST90011871\"\n"
     ]
    },
    {
     "name": "stderr",
     "output_type": "stream",
     "text": [
      "rs3134932, chromosome 6, position 32018370 to 32418370\n",
      "\n",
      "53 SNPs/datapoints\n",
      "\n",
      "\n",
      "LDlink server is working...\n",
      "\n",
      "\n",
      "Matched 52 SNPs (59.5 secs)\n",
      "\n",
      "Retrieving recombination data from UCSC\n",
      "\n"
     ]
    },
    {
     "name": "stdout",
     "output_type": "stream",
     "text": [
      "Index SNP rs3134932 \n",
      "Chromosome 6, position 32,018,370 to 32,418,370\n",
      "53 SNPs/datapoints\n",
      "26 gene transcripts\n",
      "17 protein_coding, 4 antisense, 1 3prime_overlapping_ncRNA, 1 miRNA, 1 processed_pseudogene, 1 rRNA, 1 snRNA \n"
     ]
    },
    {
     "name": "stderr",
     "output_type": "stream",
     "text": [
      "10 tracks needed to show all genes\n",
      "\n",
      "rs3134932, chromosome 6, position 32018370 to 32418370\n",
      "\n",
      "103 SNPs/datapoints\n",
      "\n",
      "Matched 75 SNPs (0.000556 secs)\n",
      "\n",
      "10 tracks needed to show all genes\n",
      "\n"
     ]
    },
    {
     "name": "stdout",
     "output_type": "stream",
     "text": [
      "[1] \"rs910320,dmr1118825,GCST90011871,rs910320,coloc_results/Tc-Naive.cc.no_beta.rda\"\n",
      "[1] \"create outdir : Tc-Naive_dmr1118825_GCST90011871\"\n"
     ]
    },
    {
     "name": "stderr",
     "output_type": "stream",
     "text": [
      "rs910320, chromosome 6, position 32907666 to 33307666\n",
      "\n",
      "114 SNPs/datapoints\n",
      "\n",
      "\n",
      "LDlink server is working...\n",
      "\n",
      "\n",
      "Matched 112 SNPs (31.9 secs)\n",
      "\n",
      "Retrieving recombination data from UCSC\n",
      "\n"
     ]
    },
    {
     "name": "stdout",
     "output_type": "stream",
     "text": [
      "Index SNP rs910320 \n",
      "Chromosome 6, position 32,907,666 to 33,307,666\n",
      "114 SNPs/datapoints\n",
      "33 gene transcripts\n",
      "19 protein_coding, 3 antisense, 3 processed_pseudogene, 3 unprocessed_pseudogene, 1 lincRNA, 1 miRNA, 1 misc_RNA, 1 sense_intronic, 1 transcribed_unprocessed_pseudogene \n"
     ]
    },
    {
     "name": "stderr",
     "output_type": "stream",
     "text": [
      "rs910320, chromosome 6, position 32907666 to 33307666\n",
      "\n",
      "408 SNPs/datapoints\n",
      "\n",
      "Matched 379 SNPs (0.00036 secs)\n",
      "\n"
     ]
    },
    {
     "name": "stdout",
     "output_type": "stream",
     "text": [
      "[1] \"rs2524137,dmr1117335,GCST90011871,rs2524137,coloc_results/Tc-Naive.cc.no_beta.rda\"\n",
      "[1] \"create outdir : Tc-Naive_dmr1117335_GCST90011871\"\n"
     ]
    },
    {
     "name": "stderr",
     "output_type": "stream",
     "text": [
      "rs2524137, chromosome 6, position 31096805 to 31496805\n",
      "\n",
      "321 SNPs/datapoints\n",
      "\n",
      "\n",
      "LDlink server is working...\n",
      "\n",
      "\n",
      "Matched 295 SNPs (37 secs)\n",
      "\n",
      "Retrieving recombination data from UCSC\n",
      "\n"
     ]
    },
    {
     "name": "stdout",
     "output_type": "stream",
     "text": [
      "Index SNP rs2524137 \n",
      "Chromosome 6, position 31,096,805 to 31,496,805\n",
      "321 SNPs/datapoints\n",
      "36 gene transcripts\n",
      "12 protein_coding, 7 processed_pseudogene, 6 unprocessed_pseudogene, 4 lincRNA, 2 misc_RNA, 1 antisense, 1 miRNA, 1 sense_intronic, 1 sense_overlapping, 1 snRNA \n"
     ]
    },
    {
     "name": "stderr",
     "output_type": "stream",
     "text": [
      "rs2524137, chromosome 6, position 31096805 to 31496805\n",
      "\n",
      "1028 SNPs/datapoints\n",
      "\n",
      "Matched 895 SNPs (0.000604 secs)\n",
      "\n",
      "Warning message:\n",
      "\"ggrepel: 1 unlabeled data points (too many overlaps). Consider increasing max.overlaps\"\n"
     ]
    }
   ],
   "source": [
    "if (is.list(summary)){\n",
    "    for (i in 1:length(summary$snp)){\n",
    "        snp=summary$snp[i]\n",
    "        dmr=summary$dmr_id[i]\n",
    "        gwas=summary$phe2[i]\n",
    "        snp2=summary$snp2[i]\n",
    "        name=summary$Name[i]\n",
    "        infile=paste0(\"coloc_results/\",gsub(\".txt\",\".rda\",summary$file[i]))\n",
    "        print(paste(snp,dmr,gwas,snp2,infile,sep=\",\"))\n",
    "        \n",
    "        \n",
    "        load(infile)\n",
    "        df1 = SNP1[[dmr]] %>% arrange(pvalues) %>%\n",
    "            distinct(snp, .keep_all = TRUE)\n",
    "        \n",
    "        df2 = SNP2[[dmr]] %>%\n",
    "            arrange(pvalues) %>%\n",
    "            distinct(snp, .keep_all = TRUE)\n",
    "        \n",
    "        if (! snp2 %in% df2$snp){\n",
    "            print(\"snp2 not in df2\")\n",
    "            next\n",
    "        }\n",
    "        \n",
    "        outdir=paste0(name,\"_\",dmr,\"_\",gwas)\n",
    "        if (file.exists(outdir)){\n",
    "            print(\"outdir already exist\")\n",
    "        } else {\n",
    "            dir.create(file.path(outdir))\n",
    "            print(paste(\"create outdir\",outdir,sep=' : '))\n",
    "        }\n",
    "        \n",
    "        write.table(as.data.frame(df2),file=paste0(outdir,\"/df2.tsv\"),sep='\\t',quote=FALSE,col.names=T,row.names = F)\n",
    "        write.table(as.data.frame(df1),file=paste0(outdir,\"/df1.tsv\"),sep='\\t',quote=FALSE,col.names=T,row.names = F)\n",
    "        \n",
    "        \n",
    "        df1$chr <- gsub(\"^chr\", \"\", df1$chr)\n",
    "        df2$chr <- gsub(\"^chr\", \"\", df2$chr)\n",
    "        \n",
    "        \n",
    "        loc1 <- locus(data=df2,flank = 2*1e5,\n",
    "             ens_db = \"EnsDb.Hsapiens.v86\",\n",
    "              labs='snp',p='pvalues',pos='position',chrom='chr',index_snp=snp2)\n",
    "        loc1 <- link_LD(loc1, token = \"81b926ab2275\")\n",
    "        loc1 <- link_recomb(loc1, genome = \"hg38\")\n",
    "        summary(loc1)\n",
    "        \n",
    "        if (snp==snp2){\n",
    "            labels=c(snp)\n",
    "        } else {\n",
    "            labels=c(snp,snp2)\n",
    "        }\n",
    "        pdf(paste0(outdir,\"/\",loc1$index_snp,\"_GWAS.pdf\"),width=6.5,height=4.5)\n",
    "        locus_plot(loc1,#gene_col = 'blue', exon_col = 'green', #exon_border = 'purple',\n",
    "                   legend_pos = 'topright',labels = labels,\n",
    "                  filter_gene_biotype=c('protein_coding','lncRNA','miRNA'),\n",
    "                   ylab='GWAS -log10(P)',main=paste0(gwas,\" (\",trait,\")\"),\n",
    "                  heights=c(5,2.5)) #highlight = gene\n",
    "        dev.off()\n",
    "\n",
    "        loc2 <- locus(data=df1,flank = 2*1e5,\n",
    "                     ens_db = \"EnsDb.Hsapiens.v86\",index_snp=snp,\n",
    "                      labs='snp',p='pvalues',pos='position',chrom='chr') #gene = gene,xrange = loc1$xrange,\n",
    "        loc2 <- link_LD(loc2, token = \"81b926ab2275\")\n",
    "        loc2 <- link_recomb(loc2, genome = \"hg38\")\n",
    "        pdf(paste0(outdir,\"/\",loc2$index_snp,\"_meQTL.pdf\"),width=6.5,height=4.5)\n",
    "        locus_plot(loc2,#gene_col = 'blue', exon_col = 'orange', exon_border = 'red',\n",
    "                   legend_pos = 'topright',labels = labels, #c(\"index\")\n",
    "                  filter_gene_biotype=c('protein_coding','lncRNA','miRNA'),\n",
    "                   ylab='meQTL -log10(P)',main=dmr,\n",
    "                  heights=c(5,2.5)) #highlight = snp\n",
    "        dev.off()\n",
    "        \n",
    "        \n",
    "        pdf(paste0(outdir,\"/locus_compare.pdf\"),width=6.5,height=4.5)\n",
    "        p <- locuscompare(in_fn1=paste0(outdir,\"/df1.tsv\"), in_fn2=paste0(outdir,\"/df2.tsv\"), marker_col1 = \"snp\", pval_col1 = \"pvalues\",\n",
    "          title1 = \"meQTL\", marker_col2 = \"snp\", pval_col2 = \"pvalues\",\n",
    "          title2 = \"GWAS\", snp = NULL, population = \"EUR\", combine = T,\n",
    "          legend = TRUE, legend_position = \"topright\", lz_ylab_linebreak = T, \n",
    "                     genome = \"hg38\")\n",
    "        print(p)\n",
    "        dev.off()\n",
    "        \n",
    "\n",
    "    }\n",
    "}"
   ]
  },
  {
   "cell_type": "code",
   "execution_count": null,
   "id": "280c35c6-ad94-4918-a27f-a2049d5a5a53",
   "metadata": {
    "vscode": {
     "languageId": "r"
    }
   },
   "outputs": [],
   "source": []
  },
  {
   "cell_type": "code",
   "execution_count": null,
   "id": "06d1b4e4-baf2-4115-a15e-62e52002fde8",
   "metadata": {
    "vscode": {
     "languageId": "r"
    }
   },
   "outputs": [],
   "source": []
  },
  {
   "cell_type": "code",
   "execution_count": null,
   "id": "8cc37118-f203-4af0-811f-036603fa4c9d",
   "metadata": {
    "vscode": {
     "languageId": "r"
    }
   },
   "outputs": [],
   "source": []
  },
  {
   "cell_type": "code",
   "execution_count": 78,
   "id": "8bd79d6f-e139-4753-a21d-60b2379b9063",
   "metadata": {
    "vscode": {
     "languageId": "r"
    }
   },
   "outputs": [
    {
     "name": "stdout",
     "output_type": "stream",
     "text": [
      "[1] \"create outdir : dmr176635_GCST90296608\"\n"
     ]
    }
   ],
   "source": [
    "if (file.exists(outdir)){\n",
    "    print(\"outdir already exist\")\n",
    "} else {\n",
    "    dir.create(file.path(outdir))\n",
    "    print(paste(\"create outdir\",outdir,sep=' : '))\n",
    "}"
   ]
  },
  {
   "cell_type": "code",
   "execution_count": 79,
   "id": "6bfb94db-72a8-4d63-bef9-7b881906c771",
   "metadata": {
    "vscode": {
     "languageId": "r"
    }
   },
   "outputs": [],
   "source": [
    "load(infile)"
   ]
  },
  {
   "cell_type": "code",
   "execution_count": 80,
   "id": "fb746853-7df6-4afe-a0df-b026f02cbd68",
   "metadata": {
    "vscode": {
     "languageId": "r"
    }
   },
   "outputs": [
    {
     "data": {
      "text/html": [
       "<table class=\"dataframe\">\n",
       "<caption>A data.frame: 6 × 14</caption>\n",
       "<thead>\n",
       "\t<tr><th></th><th scope=col>snp</th><th scope=col>chrom</th><th scope=col>position</th><th scope=col>MAF</th><th scope=col>dmr_id</th><th scope=col>pvalues</th><th scope=col>phe2</th><th scope=col>beta2</th><th scope=col>varbeta2</th><th scope=col>pvalues2</th><th scope=col>snp2</th><th scope=col>n_snps</th><th scope=col>PP3</th><th scope=col>PP4</th></tr>\n",
       "\t<tr><th></th><th scope=col>&lt;chr&gt;</th><th scope=col>&lt;chr&gt;</th><th scope=col>&lt;dbl&gt;</th><th scope=col>&lt;dbl&gt;</th><th scope=col>&lt;chr&gt;</th><th scope=col>&lt;dbl&gt;</th><th scope=col>&lt;chr&gt;</th><th scope=col>&lt;dbl&gt;</th><th scope=col>&lt;dbl&gt;</th><th scope=col>&lt;dbl&gt;</th><th scope=col>&lt;chr&gt;</th><th scope=col>&lt;dbl&gt;</th><th scope=col>&lt;dbl&gt;</th><th scope=col>&lt;dbl&gt;</th></tr>\n",
       "</thead>\n",
       "<tbody>\n",
       "\t<tr><th scope=row>dmr248500</th><td>rs11216068</td><td>chr11</td><td>116634522</td><td>0.5000</td><td>dmr248500</td><td>4.79262e-17</td><td>GCST90278671</td><td> 21.51439</td><td>1</td><td>1.141735e-102</td><td>rs11216068</td><td> 12</td><td>0.005093196</td><td>0.9938183</td></tr>\n",
       "\t<tr><th scope=row>dmr748423</th><td>rs61146033</td><td>chr2 </td><td>232107861</td><td>0.4945</td><td>dmr748423</td><td>3.01713e-15</td><td>GCST90278664</td><td>-23.71957</td><td>1</td><td>2.265078e-124</td><td>rs61146033</td><td> 76</td><td>0.016030208</td><td>0.9836805</td></tr>\n",
       "\t<tr><th scope=row>dmr248497</th><td>rs7114993 </td><td>chr11</td><td>116625593</td><td>0.5000</td><td>dmr248497</td><td>1.41165e-14</td><td>GCST90278671</td><td> 20.81965</td><td>1</td><td> 2.872688e-96</td><td>rs7114993 </td><td> 56</td><td>0.013976852</td><td>0.9835421</td></tr>\n",
       "\t<tr><th scope=row>dmr748446</th><td>rs58575560</td><td>chr2 </td><td>232092988</td><td>0.4900</td><td>dmr748446</td><td>3.27625e-13</td><td>GCST90278664</td><td>-23.65021</td><td>1</td><td>1.174430e-123</td><td>rs58575560</td><td>107</td><td>0.016563881</td><td>0.9831112</td></tr>\n",
       "\t<tr><th scope=row>dmr748377</th><td>rs58575560</td><td>chr2 </td><td>232092988</td><td>0.4900</td><td>dmr748377</td><td>7.53147e-16</td><td>GCST90278664</td><td>-23.65021</td><td>1</td><td>1.174430e-123</td><td>rs58575560</td><td>106</td><td>0.019133257</td><td>0.9805928</td></tr>\n",
       "\t<tr><th scope=row>dmr571958</th><td>rs79503327</td><td>chr18</td><td> 23184253</td><td>0.4970</td><td>dmr571958</td><td>3.85601e-11</td><td>GCST90278664</td><td>-19.41390</td><td>1</td><td> 5.888022e-84</td><td>rs79503327</td><td> 84</td><td>0.025209814</td><td>0.9666072</td></tr>\n",
       "</tbody>\n",
       "</table>\n"
      ],
      "text/latex": [
       "A data.frame: 6 × 14\n",
       "\\begin{tabular}{r|llllllllllllll}\n",
       "  & snp & chrom & position & MAF & dmr\\_id & pvalues & phe2 & beta2 & varbeta2 & pvalues2 & snp2 & n\\_snps & PP3 & PP4\\\\\n",
       "  & <chr> & <chr> & <dbl> & <dbl> & <chr> & <dbl> & <chr> & <dbl> & <dbl> & <dbl> & <chr> & <dbl> & <dbl> & <dbl>\\\\\n",
       "\\hline\n",
       "\tdmr248500 & rs11216068 & chr11 & 116634522 & 0.5000 & dmr248500 & 4.79262e-17 & GCST90278671 &  21.51439 & 1 & 1.141735e-102 & rs11216068 &  12 & 0.005093196 & 0.9938183\\\\\n",
       "\tdmr748423 & rs61146033 & chr2  & 232107861 & 0.4945 & dmr748423 & 3.01713e-15 & GCST90278664 & -23.71957 & 1 & 2.265078e-124 & rs61146033 &  76 & 0.016030208 & 0.9836805\\\\\n",
       "\tdmr248497 & rs7114993  & chr11 & 116625593 & 0.5000 & dmr248497 & 1.41165e-14 & GCST90278671 &  20.81965 & 1 &  2.872688e-96 & rs7114993  &  56 & 0.013976852 & 0.9835421\\\\\n",
       "\tdmr748446 & rs58575560 & chr2  & 232092988 & 0.4900 & dmr748446 & 3.27625e-13 & GCST90278664 & -23.65021 & 1 & 1.174430e-123 & rs58575560 & 107 & 0.016563881 & 0.9831112\\\\\n",
       "\tdmr748377 & rs58575560 & chr2  & 232092988 & 0.4900 & dmr748377 & 7.53147e-16 & GCST90278664 & -23.65021 & 1 & 1.174430e-123 & rs58575560 & 106 & 0.019133257 & 0.9805928\\\\\n",
       "\tdmr571958 & rs79503327 & chr18 &  23184253 & 0.4970 & dmr571958 & 3.85601e-11 & GCST90278664 & -19.41390 & 1 &  5.888022e-84 & rs79503327 &  84 & 0.025209814 & 0.9666072\\\\\n",
       "\\end{tabular}\n"
      ],
      "text/markdown": [
       "\n",
       "A data.frame: 6 × 14\n",
       "\n",
       "| <!--/--> | snp &lt;chr&gt; | chrom &lt;chr&gt; | position &lt;dbl&gt; | MAF &lt;dbl&gt; | dmr_id &lt;chr&gt; | pvalues &lt;dbl&gt; | phe2 &lt;chr&gt; | beta2 &lt;dbl&gt; | varbeta2 &lt;dbl&gt; | pvalues2 &lt;dbl&gt; | snp2 &lt;chr&gt; | n_snps &lt;dbl&gt; | PP3 &lt;dbl&gt; | PP4 &lt;dbl&gt; |\n",
       "|---|---|---|---|---|---|---|---|---|---|---|---|---|---|---|\n",
       "| dmr248500 | rs11216068 | chr11 | 116634522 | 0.5000 | dmr248500 | 4.79262e-17 | GCST90278671 |  21.51439 | 1 | 1.141735e-102 | rs11216068 |  12 | 0.005093196 | 0.9938183 |\n",
       "| dmr748423 | rs61146033 | chr2  | 232107861 | 0.4945 | dmr748423 | 3.01713e-15 | GCST90278664 | -23.71957 | 1 | 2.265078e-124 | rs61146033 |  76 | 0.016030208 | 0.9836805 |\n",
       "| dmr248497 | rs7114993  | chr11 | 116625593 | 0.5000 | dmr248497 | 1.41165e-14 | GCST90278671 |  20.81965 | 1 |  2.872688e-96 | rs7114993  |  56 | 0.013976852 | 0.9835421 |\n",
       "| dmr748446 | rs58575560 | chr2  | 232092988 | 0.4900 | dmr748446 | 3.27625e-13 | GCST90278664 | -23.65021 | 1 | 1.174430e-123 | rs58575560 | 107 | 0.016563881 | 0.9831112 |\n",
       "| dmr748377 | rs58575560 | chr2  | 232092988 | 0.4900 | dmr748377 | 7.53147e-16 | GCST90278664 | -23.65021 | 1 | 1.174430e-123 | rs58575560 | 106 | 0.019133257 | 0.9805928 |\n",
       "| dmr571958 | rs79503327 | chr18 |  23184253 | 0.4970 | dmr571958 | 3.85601e-11 | GCST90278664 | -19.41390 | 1 |  5.888022e-84 | rs79503327 |  84 | 0.025209814 | 0.9666072 |\n",
       "\n"
      ],
      "text/plain": [
       "          snp        chrom position  MAF    dmr_id    pvalues     phe2        \n",
       "dmr248500 rs11216068 chr11 116634522 0.5000 dmr248500 4.79262e-17 GCST90278671\n",
       "dmr748423 rs61146033 chr2  232107861 0.4945 dmr748423 3.01713e-15 GCST90278664\n",
       "dmr248497 rs7114993  chr11 116625593 0.5000 dmr248497 1.41165e-14 GCST90278671\n",
       "dmr748446 rs58575560 chr2  232092988 0.4900 dmr748446 3.27625e-13 GCST90278664\n",
       "dmr748377 rs58575560 chr2  232092988 0.4900 dmr748377 7.53147e-16 GCST90278664\n",
       "dmr571958 rs79503327 chr18  23184253 0.4970 dmr571958 3.85601e-11 GCST90278664\n",
       "          beta2     varbeta2 pvalues2      snp2       n_snps PP3        \n",
       "dmr248500  21.51439 1        1.141735e-102 rs11216068  12    0.005093196\n",
       "dmr748423 -23.71957 1        2.265078e-124 rs61146033  76    0.016030208\n",
       "dmr248497  20.81965 1         2.872688e-96 rs7114993   56    0.013976852\n",
       "dmr748446 -23.65021 1        1.174430e-123 rs58575560 107    0.016563881\n",
       "dmr748377 -23.65021 1        1.174430e-123 rs58575560 106    0.019133257\n",
       "dmr571958 -19.41390 1         5.888022e-84 rs79503327  84    0.025209814\n",
       "          PP4      \n",
       "dmr248500 0.9938183\n",
       "dmr748423 0.9836805\n",
       "dmr248497 0.9835421\n",
       "dmr748446 0.9831112\n",
       "dmr748377 0.9805928\n",
       "dmr571958 0.9666072"
      ]
     },
     "metadata": {},
     "output_type": "display_data"
    }
   ],
   "source": [
    "head(sorted_df[sorted_df$n_snps>=10,])"
   ]
  },
  {
   "cell_type": "markdown",
   "id": "310c0b76-04db-427b-8a78-c663b7e74f3c",
   "metadata": {},
   "source": [
    "## Visualization using locuscomparer"
   ]
  },
  {
   "cell_type": "code",
   "execution_count": 81,
   "id": "8b82d2d6-0ab7-4e3b-ab90-57e3298370e0",
   "metadata": {
    "vscode": {
     "languageId": "r"
    }
   },
   "outputs": [
    {
     "data": {
      "text/html": [
       "<table class=\"dataframe\">\n",
       "<caption>A data.table: 6 × 6</caption>\n",
       "<thead>\n",
       "\t<tr><th scope=col>snp</th><th scope=col>chrom</th><th scope=col>position</th><th scope=col>MAF</th><th scope=col>dmr_id</th><th scope=col>pvalues</th></tr>\n",
       "\t<tr><th scope=col>&lt;chr&gt;</th><th scope=col>&lt;chr&gt;</th><th scope=col>&lt;dbl&gt;</th><th scope=col>&lt;dbl&gt;</th><th scope=col>&lt;chr&gt;</th><th scope=col>&lt;dbl&gt;</th></tr>\n",
       "</thead>\n",
       "<tbody>\n",
       "\t<tr><td>rs78648239</td><td>chr10</td><td>113548324</td><td>0.5</td><td>dmr176635</td><td>1.31642e-18</td></tr>\n",
       "\t<tr><td>rs11575726</td><td>chr10</td><td>113570582</td><td>0.5</td><td>dmr176635</td><td>4.27180e-18</td></tr>\n",
       "\t<tr><td>rs11575728</td><td>chr10</td><td>113571337</td><td>0.5</td><td>dmr176635</td><td>4.67129e-18</td></tr>\n",
       "\t<tr><td>rs11575731</td><td>chr10</td><td>113571967</td><td>0.5</td><td>dmr176635</td><td>4.75251e-18</td></tr>\n",
       "\t<tr><td>rs59809815</td><td>chr10</td><td>113394077</td><td>0.5</td><td>dmr176635</td><td>5.03691e-18</td></tr>\n",
       "\t<tr><td>rs79339296</td><td>chr10</td><td>113397828</td><td>0.5</td><td>dmr176635</td><td>5.03691e-18</td></tr>\n",
       "</tbody>\n",
       "</table>\n"
      ],
      "text/latex": [
       "A data.table: 6 × 6\n",
       "\\begin{tabular}{llllll}\n",
       " snp & chrom & position & MAF & dmr\\_id & pvalues\\\\\n",
       " <chr> & <chr> & <dbl> & <dbl> & <chr> & <dbl>\\\\\n",
       "\\hline\n",
       "\t rs78648239 & chr10 & 113548324 & 0.5 & dmr176635 & 1.31642e-18\\\\\n",
       "\t rs11575726 & chr10 & 113570582 & 0.5 & dmr176635 & 4.27180e-18\\\\\n",
       "\t rs11575728 & chr10 & 113571337 & 0.5 & dmr176635 & 4.67129e-18\\\\\n",
       "\t rs11575731 & chr10 & 113571967 & 0.5 & dmr176635 & 4.75251e-18\\\\\n",
       "\t rs59809815 & chr10 & 113394077 & 0.5 & dmr176635 & 5.03691e-18\\\\\n",
       "\t rs79339296 & chr10 & 113397828 & 0.5 & dmr176635 & 5.03691e-18\\\\\n",
       "\\end{tabular}\n"
      ],
      "text/markdown": [
       "\n",
       "A data.table: 6 × 6\n",
       "\n",
       "| snp &lt;chr&gt; | chrom &lt;chr&gt; | position &lt;dbl&gt; | MAF &lt;dbl&gt; | dmr_id &lt;chr&gt; | pvalues &lt;dbl&gt; |\n",
       "|---|---|---|---|---|---|\n",
       "| rs78648239 | chr10 | 113548324 | 0.5 | dmr176635 | 1.31642e-18 |\n",
       "| rs11575726 | chr10 | 113570582 | 0.5 | dmr176635 | 4.27180e-18 |\n",
       "| rs11575728 | chr10 | 113571337 | 0.5 | dmr176635 | 4.67129e-18 |\n",
       "| rs11575731 | chr10 | 113571967 | 0.5 | dmr176635 | 4.75251e-18 |\n",
       "| rs59809815 | chr10 | 113394077 | 0.5 | dmr176635 | 5.03691e-18 |\n",
       "| rs79339296 | chr10 | 113397828 | 0.5 | dmr176635 | 5.03691e-18 |\n",
       "\n"
      ],
      "text/plain": [
       "  snp        chrom position  MAF dmr_id    pvalues    \n",
       "1 rs78648239 chr10 113548324 0.5 dmr176635 1.31642e-18\n",
       "2 rs11575726 chr10 113570582 0.5 dmr176635 4.27180e-18\n",
       "3 rs11575728 chr10 113571337 0.5 dmr176635 4.67129e-18\n",
       "4 rs11575731 chr10 113571967 0.5 dmr176635 4.75251e-18\n",
       "5 rs59809815 chr10 113394077 0.5 dmr176635 5.03691e-18\n",
       "6 rs79339296 chr10 113397828 0.5 dmr176635 5.03691e-18"
      ]
     },
     "metadata": {},
     "output_type": "display_data"
    }
   ],
   "source": [
    "df1 = SNP1[[dmr]] %>% arrange(pvalues) %>%\n",
    "            distinct(snp, .keep_all = TRUE)\n",
    "head(df1)"
   ]
  },
  {
   "cell_type": "code",
   "execution_count": 82,
   "id": "24e726a8-0797-4f9f-b566-b7384a9f8873",
   "metadata": {
    "vscode": {
     "languageId": "r"
    }
   },
   "outputs": [
    {
     "data": {
      "text/html": [
       "<table class=\"dataframe\">\n",
       "<caption>A data.table: 3 × 8</caption>\n",
       "<thead>\n",
       "\t<tr><th scope=col>snp</th><th scope=col>chrom</th><th scope=col>position</th><th scope=col>MAF</th><th scope=col>gwas_id</th><th scope=col>beta</th><th scope=col>varbeta</th><th scope=col>pvalues</th></tr>\n",
       "\t<tr><th scope=col>&lt;chr&gt;</th><th scope=col>&lt;chr&gt;</th><th scope=col>&lt;dbl&gt;</th><th scope=col>&lt;dbl&gt;</th><th scope=col>&lt;chr&gt;</th><th scope=col>&lt;dbl&gt;</th><th scope=col>&lt;dbl&gt;</th><th scope=col>&lt;dbl&gt;</th></tr>\n",
       "</thead>\n",
       "<tbody>\n",
       "\t<tr><td>rs11196364</td><td>chr10</td><td>113535921</td><td>0.000817</td><td>GCST90296608</td><td>20.5714</td><td>1.814362</td><td>4.128763e-10</td></tr>\n",
       "\t<tr><td>rs11196358</td><td>chr10</td><td>113521309</td><td>0.000816</td><td>GCST90296608</td><td>20.5592</td><td>1.814081</td><td>4.175707e-10</td></tr>\n",
       "\t<tr><td>rs78648239</td><td>chr10</td><td>113548324</td><td>0.000819</td><td>GCST90296608</td><td>20.5368</td><td>1.813615</td><td>4.273365e-10</td></tr>\n",
       "</tbody>\n",
       "</table>\n"
      ],
      "text/latex": [
       "A data.table: 3 × 8\n",
       "\\begin{tabular}{llllllll}\n",
       " snp & chrom & position & MAF & gwas\\_id & beta & varbeta & pvalues\\\\\n",
       " <chr> & <chr> & <dbl> & <dbl> & <chr> & <dbl> & <dbl> & <dbl>\\\\\n",
       "\\hline\n",
       "\t rs11196364 & chr10 & 113535921 & 0.000817 & GCST90296608 & 20.5714 & 1.814362 & 4.128763e-10\\\\\n",
       "\t rs11196358 & chr10 & 113521309 & 0.000816 & GCST90296608 & 20.5592 & 1.814081 & 4.175707e-10\\\\\n",
       "\t rs78648239 & chr10 & 113548324 & 0.000819 & GCST90296608 & 20.5368 & 1.813615 & 4.273365e-10\\\\\n",
       "\\end{tabular}\n"
      ],
      "text/markdown": [
       "\n",
       "A data.table: 3 × 8\n",
       "\n",
       "| snp &lt;chr&gt; | chrom &lt;chr&gt; | position &lt;dbl&gt; | MAF &lt;dbl&gt; | gwas_id &lt;chr&gt; | beta &lt;dbl&gt; | varbeta &lt;dbl&gt; | pvalues &lt;dbl&gt; |\n",
       "|---|---|---|---|---|---|---|---|\n",
       "| rs11196364 | chr10 | 113535921 | 0.000817 | GCST90296608 | 20.5714 | 1.814362 | 4.128763e-10 |\n",
       "| rs11196358 | chr10 | 113521309 | 0.000816 | GCST90296608 | 20.5592 | 1.814081 | 4.175707e-10 |\n",
       "| rs78648239 | chr10 | 113548324 | 0.000819 | GCST90296608 | 20.5368 | 1.813615 | 4.273365e-10 |\n",
       "\n"
      ],
      "text/plain": [
       "  snp        chrom position  MAF      gwas_id      beta    varbeta \n",
       "1 rs11196364 chr10 113535921 0.000817 GCST90296608 20.5714 1.814362\n",
       "2 rs11196358 chr10 113521309 0.000816 GCST90296608 20.5592 1.814081\n",
       "3 rs78648239 chr10 113548324 0.000819 GCST90296608 20.5368 1.813615\n",
       "  pvalues     \n",
       "1 4.128763e-10\n",
       "2 4.175707e-10\n",
       "3 4.273365e-10"
      ]
     },
     "metadata": {},
     "output_type": "display_data"
    }
   ],
   "source": [
    "df2 = SNP2[[dmr]] %>%\n",
    "            arrange(pvalues) %>%\n",
    "            distinct(snp, .keep_all = TRUE)\n",
    "head(df2)"
   ]
  },
  {
   "cell_type": "code",
   "execution_count": 83,
   "id": "50e7c4df-ab50-4f9d-85b6-14a4a85c7a23",
   "metadata": {
    "vscode": {
     "languageId": "r"
    }
   },
   "outputs": [],
   "source": [
    "write.table(as.data.frame(df2),file=paste0(outdir,\"/df2.tsv\"),sep='\\t',quote=FALSE,col.names=T,row.names = F)\n",
    "write.table(as.data.frame(df1),file=paste0(outdir,\"/df1.tsv\"),sep='\\t',quote=FALSE,col.names=T,row.names = F)"
   ]
  },
  {
   "cell_type": "code",
   "execution_count": 84,
   "id": "cae6a406-5a41-4dc9-b73d-01b60db992a7",
   "metadata": {
    "vscode": {
     "languageId": "r"
    }
   },
   "outputs": [
    {
     "data": {
      "text/html": [
       "<strong>png:</strong> 2"
      ],
      "text/latex": [
       "\\textbf{png:} 2"
      ],
      "text/markdown": [
       "**png:** 2"
      ],
      "text/plain": [
       "png \n",
       "  2 "
      ]
     },
     "metadata": {},
     "output_type": "display_data"
    }
   ],
   "source": [
    "pdf(paste0(outdir,\"/locus_compare.pdf\"),width=7,height=3.5)\n",
    "locuscompare(in_fn1=paste0(outdir,\"/df1.tsv\"), in_fn2=paste0(outdir,\"/df2.tsv\"), marker_col1 = \"snp\", pval_col1 = \"pvalues\",\n",
    "  title1 = \"meQTL\", marker_col2 = \"snp\", pval_col2 = \"pvalues\",\n",
    "  title2 = \"GWAS\", snp = NULL, population = \"EUR\", combine = T,\n",
    "  legend = TRUE, legend_position = \"topleft\", lz_ylab_linebreak = T, \n",
    "             genome = \"hg38\")\n",
    "dev.off()"
   ]
  },
  {
   "cell_type": "code",
   "execution_count": 85,
   "id": "1177a2eb-2eb1-4de4-b661-dcfb046ffe47",
   "metadata": {
    "vscode": {
     "languageId": "r"
    }
   },
   "outputs": [],
   "source": [
    "df1$chr <- gsub(\"^chr\", \"\", df1$chr)\n",
    "df2$chr <- gsub(\"^chr\", \"\", df2$chr)"
   ]
  },
  {
   "cell_type": "code",
   "execution_count": 86,
   "id": "a6e7dce8-ce00-4f7b-a447-9ca0d8b276e6",
   "metadata": {
    "vscode": {
     "languageId": "r"
    }
   },
   "outputs": [],
   "source": [
    "# possible_biotypes <- ensembldb::listGenebiotypes(EnsDb.Hsapiens.v75)  # Adjust species/version as needed\n",
    "# print(possible_biotypes)  # View the list of available biotypes"
   ]
  },
  {
   "cell_type": "code",
   "execution_count": 87,
   "id": "db2983ba-181d-4e3d-a9d3-f4fb8eeeddab",
   "metadata": {
    "vscode": {
     "languageId": "r"
    }
   },
   "outputs": [
    {
     "name": "stderr",
     "output_type": "stream",
     "text": [
      "rs78648239, chromosome 10, position 113348324 to 113748324\n",
      "\n",
      "3 SNPs/datapoints\n",
      "\n",
      "\n",
      "LDlink server is working...\n",
      "\n",
      "\n",
      "  error: Variant is monoallelic in the chosen population(s).\n",
      "\n",
      "Matched 0 SNPs (9.04 secs)\n",
      "\n",
      "Retrieving recombination data from UCSC\n",
      "\n"
     ]
    },
    {
     "name": "stdout",
     "output_type": "stream",
     "text": [
      "Index SNP rs78648239 \n",
      "Chromosome 10, position 113,348,324 to 113,748,324\n",
      "3 SNPs/datapoints\n",
      "6 gene transcripts\n",
      "3 protein_coding, 1 antisense, 1 processed_pseudogene, 1 snRNA \n"
     ]
    },
    {
     "data": {
      "text/html": [
       "<strong>png:</strong> 2"
      ],
      "text/latex": [
       "\\textbf{png:} 2"
      ],
      "text/markdown": [
       "**png:** 2"
      ],
      "text/plain": [
       "png \n",
       "  2 "
      ]
     },
     "metadata": {},
     "output_type": "display_data"
    },
    {
     "name": "stderr",
     "output_type": "stream",
     "text": [
      "rs78648239, chromosome 10, position 113348324 to 113748324\n",
      "\n",
      "213 SNPs/datapoints\n",
      "\n",
      "Matched 0 SNPs (0.000212 secs)\n",
      "\n"
     ]
    },
    {
     "data": {
      "text/html": [
       "<strong>png:</strong> 2"
      ],
      "text/latex": [
       "\\textbf{png:} 2"
      ],
      "text/markdown": [
       "**png:** 2"
      ],
      "text/plain": [
       "png \n",
       "  2 "
      ]
     },
     "metadata": {},
     "output_type": "display_data"
    }
   ],
   "source": [
    "loc1 <- locus(data=df2,flank = 2*1e5,\n",
    "             ens_db = \"EnsDb.Hsapiens.v86\",\n",
    "              labs='snp',p='pvalues',pos='position',chrom='chr',index_snp=snp2)\n",
    "loc1 <- link_LD(loc1, token = \"81b926ab2275\")\n",
    "loc1 <- link_recomb(loc1, genome = \"hg38\")\n",
    "summary(loc1)\n",
    "pdf(paste0(outdir,\"/\",loc1$index_snp,\"_GWAS.pdf\"),width=6.5,height=4.5)\n",
    "locus_plot(loc1,#gene_col = 'blue', exon_col = 'green', #exon_border = 'purple',\n",
    "           legend_pos = 'topright',labels = c(\"index\"),\n",
    "          filter_gene_biotype=c('protein_coding','lncRNA','miRNA'),\n",
    "           ylab='GWAS -log10(P)',main=gwas,\n",
    "          heights=c(5,2.5),highlight = snp) #highlight = gene\n",
    "dev.off()\n",
    "\n",
    "loc2 <- locus(data=df1,flank = 2*1e5,\n",
    "             ens_db = \"EnsDb.Hsapiens.v86\",index_snp=snp,\n",
    "              labs='snp',p='pvalues',pos='position',chrom='chr') #gene = gene,xrange = loc1$xrange,\n",
    "loc2 <- link_LD(loc2, token = \"81b926ab2275\")\n",
    "loc2 <- link_recomb(loc2, genome = \"hg38\")\n",
    "pdf(paste0(outdir,\"/\",loc2$index_snp,\"_meQTL.pdf\"),width=6.5,height=4.5)\n",
    "locus_plot(loc2,#gene_col = 'blue', exon_col = 'orange', exon_border = 'red',\n",
    "           legend_pos = 'topright',labels = c(\"index\"),\n",
    "          filter_gene_biotype=c('protein_coding','lncRNA','miRNA'),\n",
    "           ylab='meQTL -log10(P)',main=dmr,\n",
    "          heights=c(5,2.5),highlight = snp) #\n",
    "dev.off()"
   ]
  },
  {
   "cell_type": "code",
   "execution_count": null,
   "id": "9e70686b-b452-44df-b75d-fa841932373d",
   "metadata": {
    "vscode": {
     "languageId": "r"
    }
   },
   "outputs": [],
   "source": []
  }
 ],
 "metadata": {
  "kernelspec": {
   "display_name": "R4.3.3",
   "language": "R",
   "name": "r4.3.3"
  },
  "language_info": {
   "codemirror_mode": "r",
   "file_extension": ".r",
   "mimetype": "text/x-r-source",
   "name": "R",
   "pygments_lexer": "r",
   "version": "4.3.3"
  }
 },
 "nbformat": 4,
 "nbformat_minor": 5
}
