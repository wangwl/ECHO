{
 "cells": [
  {
   "cell_type": "markdown",
   "id": "0b65c109-3951-4a1b-aff8-9822c7de5f23",
   "metadata": {
    "papermill": {
     "duration": 0.004377,
     "end_time": "2024-08-27T18:06:48.554039",
     "exception": false,
     "start_time": "2024-08-27T18:06:48.549662",
     "status": "completed"
    },
    "tags": []
   },
   "source": [
    "# Parameters"
   ]
  },
  {
   "cell_type": "code",
   "execution_count": null,
   "id": "fc3fffd5-33b8-46d0-8511-8631e2293261",
   "metadata": {
    "papermill": {
     "duration": 0.058066,
     "end_time": "2024-08-27T18:06:48.615590",
     "exception": false,
     "start_time": "2024-08-27T18:06:48.557524",
     "status": "completed"
    },
    "tags": [
     "parameters"
    ],
    "vscode": {
     "languageId": "r"
    }
   },
   "outputs": [],
   "source": [
    "infile1=\"cis-meQTL/B-Mem.tsv\"\n",
    "infile2=\"gwas_catalog/gwas_catalog_cc_no_beta.tsv.gz\"\n",
    "# type1=\"quant\"\n",
    "# type2=\"cc\"\n",
    "phe1=\"dmr_id\"\n",
    "phe2=\"gwas_id\"\n",
    "has_beta1=\"no\"\n",
    "has_beta2=\"no\"\n",
    "N1=110\n",
    "meta2=\"gwas_catalog/gwas_catalog_harmonised_metadata.tsv\" # should contain columns: ${phe2} and n_case,n_control\n",
    "outdir=\"coloc_results\"\n",
    "name=\"B-Mem.cc.no_beta\""
   ]
  },
  {
   "cell_type": "code",
   "execution_count": null,
   "id": "d9957fa2-aa64-4a61-9c90-d4d2171f0880",
   "metadata": {
    "papermill": {
     "duration": 1.19224,
     "end_time": "2024-08-27T18:06:49.859834",
     "exception": false,
     "start_time": "2024-08-27T18:06:48.667594",
     "status": "completed"
    },
    "tags": [],
    "vscode": {
     "languageId": "r"
    }
   },
   "outputs": [],
   "source": [
    "library(coloc)\n",
    "suppressMessages(library(tidyverse))\n",
    "suppressMessages(library(data.table))\n",
    "library(LDlinkR)"
   ]
  },
  {
   "cell_type": "code",
   "execution_count": null,
   "id": "cf8281f7-7ddf-4af4-b7cc-70941dcc69cf",
   "metadata": {
    "papermill": {
     "duration": 0.013824,
     "end_time": "2024-08-27T18:06:49.877295",
     "exception": false,
     "start_time": "2024-08-27T18:06:49.863471",
     "status": "completed"
    },
    "tags": [],
    "vscode": {
     "languageId": "r"
    }
   },
   "outputs": [],
   "source": [
    "if (file.exists(outdir)){\n",
    "    print(\"outdir already exist\")\n",
    "} else {\n",
    "    dir.create(file.path(outdir))\n",
    "    print(paste(\"create outdir\",outdir,sep=' : '))\n",
    "}"
   ]
  },
  {
   "cell_type": "markdown",
   "id": "9fbcac3d-d435-49f1-ba8c-6b3d719a3030",
   "metadata": {
    "papermill": {
     "duration": 0.003396,
     "end_time": "2024-08-27T18:06:49.884251",
     "exception": false,
     "start_time": "2024-08-27T18:06:49.880855",
     "status": "completed"
    },
    "tags": []
   },
   "source": [
    "## Read data"
   ]
  },
  {
   "cell_type": "code",
   "execution_count": null,
   "id": "4d11edf8-5b9e-4e96-b906-87a6ae84ab9e",
   "metadata": {
    "papermill": {
     "duration": 27.351486,
     "end_time": "2024-08-27T18:07:17.239147",
     "exception": false,
     "start_time": "2024-08-27T18:06:49.887661",
     "status": "completed"
    },
    "tags": [],
    "vscode": {
     "languageId": "r"
    }
   },
   "outputs": [],
   "source": [
    "# infile1: quant\n",
    "QTL1 = fread(infile1,header=F,col.names=c('chrom','position','dmr_id','snp','MAF','pvalues')) %>%\n",
    "    mutate_at( #mutate_at: perform operation on a selected variable (column)\n",
    "        \"position\", #convert position from str to int\n",
    "        as.numeric\n",
    "    )\n",
    "\n",
    "# if (snp1!=\"snp\"){\n",
    "#     QTL1 <- QTL1 %>% rename(snp  = `snp1`)\n",
    "# }\n",
    "\n",
    "# if (pval1!=\"pvalues\"){\n",
    "#     QTL1 <- QTL1 %>% rename(chrom  = `pval1`)\n",
    "# }\n",
    "\n",
    "if (has_beta1==\"yes\"){ #has beta and varbeta, no need meta1\n",
    "   QTL1 <- QTL1 %>%\n",
    "    select(snp, chrom, position, MAF, phe1, beta,varbeta,pvalues) # need N1\n",
    "} else { # no beta, use pvalue and MAF for quant\n",
    "   QTL1 <- QTL1 %>%\n",
    "        select(snp, chrom, position, MAF, phe1, pvalues) # need N1\n",
    "}\n",
    "\n",
    "QTL1 <- QTL1 %>% filter(MAF > 0, MAF < 1) %>% drop_na()\n",
    "QTL1[QTL1$pvalues==0,'pvalues'] <- 5e-324\n",
    "\n",
    "print(dim(QTL1))\n",
    "head(QTL1)"
   ]
  },
  {
   "cell_type": "code",
   "execution_count": null,
   "id": "cd9e845e-3ea7-45de-aa02-b306b8efa43c",
   "metadata": {
    "papermill": {
     "duration": 6.277942,
     "end_time": "2024-08-27T18:07:23.522814",
     "exception": false,
     "start_time": "2024-08-27T18:07:17.244872",
     "status": "completed"
    },
    "tags": [],
    "vscode": {
     "languageId": "r"
    }
   },
   "outputs": [],
   "source": [
    "# infile2: cc\n",
    "QTL2 = fread(infile2) %>%\n",
    "mutate_at( #mutate_at: perform operation on a selected variable (column)\n",
    "    \"position\", #convert position from str to int\n",
    "    as.numeric\n",
    ")\n",
    "\n",
    "if (has_beta2==\"no\"){ #has beta and varbeta, no need meta1\n",
    "   QTL2 <- QTL2 %>%\n",
    "        select(snp, chrom, position, MAF, phe2, pvalues) # need N2 and s (n_case/N2), can be read from meta2\n",
    "\n",
    "    df_meta2 = fread(meta2) %>%\n",
    "        select(phe2,n_case,n_control) %>% filter(get(phe2) %in% QTL2[[phe2]]) %>%\n",
    "        mutate(N=n_case+n_control) %>% mutate(S=n_case / N)\n",
    "\n",
    "} else { # has beta, use pvalue and MAF for quant\n",
    "    QTL2 <- QTL2 %>%\n",
    "        select(snp, chrom, position, MAF,phe2, beta, varbeta,pvalues)\n",
    "}\n",
    "\n",
    "QTL2 <- QTL2 %>% filter(MAF > 0, MAF < 1) %>% drop_na()\n",
    "QTL2[QTL2$pvalues==0,'pvalues'] <- 5e-324\n",
    "\n",
    "print(dim(QTL2))\n",
    "head(QTL2)"
   ]
  },
  {
   "cell_type": "markdown",
   "id": "aaf3d819-3583-4ff2-b367-f1b2bd99fcb5",
   "metadata": {
    "papermill": {
     "duration": 0.003915,
     "end_time": "2024-08-27T18:07:23.532852",
     "exception": false,
     "start_time": "2024-08-27T18:07:23.528937",
     "status": "completed"
    },
    "tags": []
   },
   "source": [
    "# lead_SNP"
   ]
  },
  {
   "cell_type": "code",
   "execution_count": null,
   "id": "9e09829d-22a1-4c4a-99e5-0f122a0dedf2",
   "metadata": {
    "papermill": {
     "duration": 7.03275,
     "end_time": "2024-08-27T18:07:30.569612",
     "exception": false,
     "start_time": "2024-08-27T18:07:23.536862",
     "status": "completed"
    },
    "tags": [],
    "vscode": {
     "languageId": "r"
    }
   },
   "outputs": [],
   "source": [
    "# Get lead SNP (the SNP with the smallest pvalue for each phenotype)\n",
    "lead_SNP1 = QTL1 %>%\n",
    "    group_by(!!!syms(phe1)) %>%\n",
    "    arrange(pvalues) %>% #arranges the rows in ascending order of the pvalue column, smallest (most significant) p-values are at the top\n",
    "    distinct(!!!syms(phe1), .keep_all = TRUE)\n",
    "\n",
    "print(dim(lead_SNP1)) #only selected the SNP with the smallest pvalue for each gene\n",
    "head(lead_SNP1)\n",
    "\n",
    "lead_SNP2 = QTL2 %>%\n",
    "    group_by(!!!syms(phe2)) %>%\n",
    "    arrange(pvalues) %>% #arranges the rows in ascending order of the pvalue column, smallest (most significant) p-values are at the top\n",
    "    distinct(!!!syms(phe2), .keep_all = TRUE)\n",
    "\n",
    "print(dim(lead_SNP2)) #only selected the SNP with the smallest pvalue for each gene\n",
    "head(lead_SNP2)"
   ]
  },
  {
   "cell_type": "markdown",
   "id": "bb10dc1a-3741-4301-9119-aca8eeaa6d5c",
   "metadata": {
    "papermill": {
     "duration": 0.004253,
     "end_time": "2024-08-27T18:07:30.580552",
     "exception": false,
     "start_time": "2024-08-27T18:07:30.576299",
     "status": "completed"
    },
    "tags": []
   },
   "source": [
    "# convert QTL dataframe to list"
   ]
  },
  {
   "cell_type": "code",
   "execution_count": null,
   "id": "f9bc14f9-e354-455c-8f64-582381706039",
   "metadata": {
    "papermill": {
     "duration": 0.703779,
     "end_time": "2024-08-27T18:07:31.288597",
     "exception": false,
     "start_time": "2024-08-27T18:07:30.584818",
     "status": "completed"
    },
    "tags": [],
    "vscode": {
     "languageId": "r"
    }
   },
   "outputs": [],
   "source": [
    "# Define colocalization pairs\n",
    "if (has_beta1==\"yes\"){ #has beta and varbeta, no need meta1\n",
    "    qtl_list1 = apply( #processes the lead_SNP1 dataframe to create a list of dictionaries\n",
    "        lead_SNP1 %>%\n",
    "            mutate(rownames = !!sym(phe1)) %>%\n",
    "            column_to_rownames(\"rownames\"),\n",
    "        MARGIN = 1, #applied to each row (MARGIN = 1) of the preprocessed dataframe\n",
    "        FUN = function(x) {\n",
    "            result                   = as.list(x)\n",
    "            result[[\"MAF\"]]          = as.numeric(result[[\"MAF\"]])\n",
    "            result[[\"position\"]]     = as.numeric(result[[\"position\"]])\n",
    "            result[[\"beta\"]]    = as.numeric(result[[\"beta\"]])\n",
    "            result[[\"varbeta\"]] = as.numeric(result[[\"varbeta\"]])\n",
    "            result[[\"pvalues\"]]  = as.numeric(result[[\"pvalues\"]])\n",
    "            return(result)\n",
    "        },\n",
    "        simplify = FALSE\n",
    "    ) #convert a dataframe into a list\n",
    "} else { # no beta, use pvalue and MAF for quant\n",
    "    qtl_list1 = apply( #processes the lead_SNP1 dataframe to create a list of dictionaries\n",
    "        lead_SNP1 %>%\n",
    "            mutate(rownames = !!sym(phe1)) %>%\n",
    "            column_to_rownames(\"rownames\"),\n",
    "        MARGIN = 1, #applied to each row (MARGIN = 1) of the preprocessed dataframe\n",
    "        FUN = function(x) {\n",
    "            result                   = as.list(x)\n",
    "            result[[\"MAF\"]]          = as.numeric(result[[\"MAF\"]])\n",
    "            result[[\"position\"]]     = as.numeric(result[[\"position\"]])\n",
    "            result[[\"pvalues\"]]  = as.numeric(result[[\"pvalues\"]])\n",
    "            return(result)\n",
    "        },\n",
    "        simplify = FALSE\n",
    "    ) #convert a dataframe into a list\n",
    "}\n",
    "\n",
    "print(length(qtl_list1))\n",
    "head(qtl_list1)\n"
   ]
  },
  {
   "cell_type": "code",
   "execution_count": null,
   "id": "dfbb325f-64c1-40b8-bd67-af85c41e3a30",
   "metadata": {
    "papermill": {
     "duration": 0.013507,
     "end_time": "2024-08-27T18:07:31.306999",
     "exception": false,
     "start_time": "2024-08-27T18:07:31.293492",
     "status": "completed"
    },
    "tags": [],
    "vscode": {
     "languageId": "r"
    }
   },
   "outputs": [],
   "source": [
    "# for test: to run faster, only select top 100 qtl_list1\n",
    "# qtl_list1 <- head(qtl_list1,50)\n",
    "# print(length(qtl_list1))\n",
    "# head(qtl_list1)"
   ]
  },
  {
   "cell_type": "markdown",
   "id": "6456bbd3-ea90-4685-9f80-0420200cb71d",
   "metadata": {
    "papermill": {
     "duration": 0.00468,
     "end_time": "2024-08-27T18:07:31.316373",
     "exception": false,
     "start_time": "2024-08-27T18:07:31.311693",
     "status": "completed"
    },
    "tags": []
   },
   "source": [
    "# overlapped_SNP2 (qtl_list2) whose SNPs overlapped with qtl_list1"
   ]
  },
  {
   "cell_type": "code",
   "execution_count": null,
   "id": "25a87c59-75cf-44c0-9e9d-76d9d2c1f63e",
   "metadata": {
    "papermill": {
     "duration": 2412.289527,
     "end_time": "2024-08-27T18:47:43.610539",
     "exception": false,
     "start_time": "2024-08-27T18:07:31.321012",
     "status": "completed"
    },
    "tags": [],
    "vscode": {
     "languageId": "r"
    }
   },
   "outputs": [],
   "source": [
    "# get the overlapped SNP from infile2\n",
    "qtl_list2 = lapply( #lapply function applies a function (specified by FUN) to each element of a list.\n",
    "    X = qtl_list1,\n",
    "    FUN = function(x) {\n",
    "        QTL2 %>% filter(snp == x[[\"snp\"]]) #chrom == x[[\"chrom\"]], position - x[[\"position\"]] <= 1000000, x[[\"position\"]]-position <= 1000000\n",
    "    }\n",
    ") # a list, each element is a dataframe whose snp equal to x[['snp']] for each x in qtl_list1\n",
    "qtl_list2 <- qtl_list2[sapply(qtl_list2, function(x) length(x[[\"snp\"]]) > 0)]\n",
    "print(length(qtl_list2))\n",
    "head(qtl_list2)\n",
    "\n",
    "# only keep overlapped QTL1\n",
    "qtl_list1 <- qtl_list1[names(qtl_list2)]"
   ]
  },
  {
   "cell_type": "code",
   "execution_count": null,
   "id": "96ac1936-f162-4cd9-9d1b-4edd64417051",
   "metadata": {
    "papermill": {
     "duration": 0.070309,
     "end_time": "2024-08-27T18:47:43.722275",
     "exception": false,
     "start_time": "2024-08-27T18:47:43.651966",
     "status": "completed"
    },
    "tags": [],
    "vscode": {
     "languageId": "r"
    }
   },
   "outputs": [],
   "source": [
    "if(length(qtl_list2) ==0 ) {\n",
    "    print(\"No overlap\")\n",
    "    quit()\n",
    "}"
   ]
  },
  {
   "cell_type": "markdown",
   "id": "59d4ba6e-0c1e-412f-a061-7c8cb6881b3d",
   "metadata": {
    "papermill": {
     "duration": 0.005211,
     "end_time": "2024-08-27T18:47:43.735126",
     "exception": false,
     "start_time": "2024-08-27T18:47:43.729915",
     "status": "completed"
    },
    "tags": []
   },
   "source": [
    "# LD\n",
    "For each phe1, find only 1 snp2 in qtl_list2 df having largest LD with snp1"
   ]
  },
  {
   "cell_type": "code",
   "execution_count": null,
   "id": "cb14d6c5-78ce-4bb4-9a3f-bca7b7cfebfc",
   "metadata": {
    "vscode": {
     "languageId": "r"
    }
   },
   "outputs": [],
   "source": [
    "# lead_phe2 = mapply( #mapply function applies a function (specified by FUN) to corresponding elements from multiple lists\n",
    "#         FUN = function(qtl1, qtl2) { #defines the function that will be applied to each pair of elements (qtl1 and meqtl_overlap) from the corresponding lists\n",
    "#             if(length(qtl2[[\"snp\"]]) == 0) {\n",
    "#                 return(0)\n",
    "#             }\n",
    "#             if(length(unique(qtl2[[phe2]])) == 1) {\n",
    "#                 return(1)\n",
    "#             } else { #multiple phe2\n",
    "#                 lead_snp1 = qtl1[[\"snp\"]]\n",
    "#                 query2 <- lead_SNP2 %>% filter(get(phe2) %in% qtl2[[phe2]],chrom==qtl1$chrom) %>% arrange(pvalues,MAF)\n",
    "#                 query2 <- query2[duplicated(query2$snp),]\n",
    "#                 lead_snp2_query <- query2$snp\n",
    "#                 if(length(lead_snp2_query) == 0){\n",
    "#                     # ld_with_lead_snp1 <- c(0)\n",
    "#                     return(0)\n",
    "#                 } else if (length(lead_snp2_query) == 1) {\n",
    "#                     return(1)\n",
    "#                 } else if (lead_snp1 %in% lead_snp2_query) {\n",
    "#                     return(\"yes\")\n",
    "#                 } else {\n",
    "#                     return(\"N\")\n",
    "#                 }\n",
    "#             }\n",
    "#         },\n",
    "#         qtl_list1,\n",
    "#         qtl_list2,\n",
    "#         SIMPLIFY = FALSE\n",
    "#     )"
   ]
  },
  {
   "cell_type": "code",
   "execution_count": null,
   "id": "48e0e03e-6c0c-4640-ba93-f9403c106242",
   "metadata": {
    "papermill": {
     "duration": 485.616874,
     "end_time": "2024-08-27T18:55:49.357053",
     "exception": true,
     "start_time": "2024-08-27T18:47:43.740179",
     "status": "failed"
    },
    "tags": [],
    "vscode": {
     "languageId": "r"
    }
   },
   "outputs": [],
   "source": [
    "# Calculate LD\n",
    "if (has_beta2==\"yes\"){\n",
    "    lead_phe2 = mapply( #mapply function applies a function (specified by FUN) to corresponding elements from multiple lists\n",
    "        FUN = function(qtl1, qtl2) { #defines the function that will be applied to each pair of elements (qtl1 and meqtl_overlap) from the corresponding lists\n",
    "            if(length(qtl2[[\"snp\"]]) == 0) {\n",
    "                return(list(\n",
    "                    phe2        = NA,\n",
    "                    beta2   = NA,\n",
    "                    varbeta2      = NA,\n",
    "                    pvalues2 = NA,\n",
    "                    snp2 = NA\n",
    "                ))\n",
    "            }\n",
    "            if(length(unique(qtl2[[phe2]])) == 1) {\n",
    "                return(\n",
    "                    list(\n",
    "                        phe2         = qtl2[[phe2]][1],\n",
    "                        beta2    = qtl2[[\"beta\"]][1],\n",
    "                        varbeta2 = qtl2[[\"varbeta\"]][1],\n",
    "                        pvalues2  = qtl2[[\"pvalues\"]][1],\n",
    "                        snp2 = qtl2[[\"snp\"]][1]\n",
    "                    )\n",
    "                )\n",
    "            } else { #multiple phe2\n",
    "                lead_snp1 = qtl1[[\"snp\"]]\n",
    "                query2 <- lead_SNP2 %>% filter(get(phe2) %in% qtl2[[phe2]],chrom==qtl1$chrom) %>% arrange(pvalues,MAF)\n",
    "                query2 <- query2[duplicated(query2$snp),]\n",
    "                lead_snp2_query <- query2$snp\n",
    "                # simplified apply (sapply) is a function used to apply a function to each element, row, or column of a vector, matrix, data frame, or array and return the results in a simplified way\n",
    "                if(length(lead_snp2_query) == 0){\n",
    "                    # ld_with_lead_snp1 <- c(0)\n",
    "                    return(list(\n",
    "                            phe2  = NA,\n",
    "                            beta2   = NA,\n",
    "                            varbeta2      = NA,\n",
    "                            pvalue2 = NA,\n",
    "                            snp2 = NA\n",
    "                        ))\n",
    "                } else if (length(lead_snp2_query) == 1) {\n",
    "                    return(list(\n",
    "                            phe2  = query2[[phe2]][1],\n",
    "                            beta2   = NA,\n",
    "                            varbeta2      = NA,\n",
    "                            pvalue2 = query2$pvalues[1],\n",
    "                            snp2 = query2$snp[1]\n",
    "                        ))\n",
    "                } else if (lead_snp1 %in% lead_snp2_query) {\n",
    "                    return(list(\n",
    "                            phe2  = query2[query2$snp==lead_snp1,][[phe2]][1],\n",
    "                            beta2   = query2[query2$snp==lead_snp1,]$beta[1],\n",
    "                            varbeta2 = query2[query2$snp==lead_snp1,]$varbeta[1],\n",
    "                            pvalue2 = query2[query2$snp==lead_snp1,]$pvalues[1],\n",
    "                            snp2 = lead_snp1\n",
    "                        ))\n",
    "                } else {\n",
    "                    ld_with_lead_snp1 = sapply( #Uses sapply and LDlinkR package to calculate LD (R2) between each selected meSNP and the lead eSNP.\n",
    "                        X = lead_snp2_query,\n",
    "                        FUN = function(x) {\n",
    "                            if (length(x) == 0) {\n",
    "                                return(0)\n",
    "                            } else {\n",
    "                                tryCatch({\n",
    "                                    ld_matrix = LDlinkR::LDpair(\n",
    "                                        var1  = x,\n",
    "                                        var2  = lead_snp1,\n",
    "                                        pop   = \"CEU\",\n",
    "                                        #  https://ldlink.nih.gov/?tab=apiaccess\n",
    "                                        token = \"YOUR_TOKEN\"\n",
    "                                    )\n",
    "                                    return(ld_matrix[[\"r2\"]][1]) #calculate the LD between two SNP\n",
    "                                },\n",
    "                                error = function(error) {\n",
    "                                    print(paste(x, lead_snp1, error, sep = \"\\t\"))\n",
    "                                    return(0)\n",
    "                                })\n",
    "                            }\n",
    "                        },\n",
    "                        simplify = \"array\"\n",
    "                    )\n",
    "                }\n",
    "                \n",
    "                tryCatch({\n",
    "                    max_ld = max(ld_with_lead_snp1,na.rm=T)\n",
    "                    if(max_ld == 0 | is.na(max_ld)) {\n",
    "                        return(list(\n",
    "                            phe2  = NA,\n",
    "                            beta2   = NA,\n",
    "                            varbeta2  = NA,\n",
    "                            pvalues2 = NA,\n",
    "                            snp2 = NA\n",
    "                        ))\n",
    "                    } else { # If LD is valid, it identifies the SNP (max_ld_snp) corresponding to the maximum LD and extracts the lead phe2 (max_ld_phe2), beta (max_ld_beta), varbeta (max_ld_varbeta), and pvalue (max_ld_pvalue) associated with that SNP.\n",
    "                        max_ld_snp = names(ld_with_lead_snp1)[which(ld_with_lead_snp1 == max_ld)]\n",
    "                        max_ld_phe2   = (lead_SNP2 %>% filter(snp %in% max_ld_snp) %>% arrange(pvalues))[[phe2]][1]\n",
    "                        max_ld_beta    = (lead_SNP2 %>% filter(snp %in% max_ld_snp) %>% arrange(pvalues))$beta[1]\n",
    "                        max_ld_varbeta = (lead_SNP2 %>% filter(snp %in% max_ld_snp) %>% arrange(pvalues))$varbeta[1]\n",
    "                        max_ld_pvalue  = (lead_SNP2 %>% filter(snp %in% max_ld_snp) %>% arrange(pvalues))$pvalues[1]\n",
    "                        return(\n",
    "                            list(\n",
    "                                phe2        = max_ld_phe2,\n",
    "                                beta2   = max_ld_beta,\n",
    "                                varbeta2      = max_ld_varbeta,\n",
    "                                pvalues2 = max_ld_pvalue,\n",
    "                                snp2 = max_ld_snp\n",
    "                            )\n",
    "                        )\n",
    "                    }\n",
    "                },\n",
    "                error = function(error) {\n",
    "                    print(error)\n",
    "                    return(list(\n",
    "                            phe2  = NA,\n",
    "                            beta2   = NA,\n",
    "                            varbeta2  = NA,\n",
    "                            pvalues2 = NA,\n",
    "                            snp2 = NA\n",
    "                        ))\n",
    "                })\n",
    "            }\n",
    "        },\n",
    "        qtl_list1,\n",
    "        qtl_list2,\n",
    "        SIMPLIFY = FALSE\n",
    "    ) #Finally, it returns a list containing the lead max_ld_phe2, beta, varbeta, and pvalue for each\n",
    "} else { #no beta: snp, chrom, position, MAF, phe2, pvalues\n",
    "    lead_phe2 = mapply( #mapply function applies a function (specified by FUN) to corresponding elements from multiple lists\n",
    "        FUN = function(qtl1, qtl2) { #defines the function that will be applied to each pair of elements (qtl1 and qtl2) from the corresponding lists\n",
    "            # no overlap: snp, chrom, position, MAF, phe2, pvalues\n",
    "            if(length(qtl2[[\"snp\"]]) == 0) {\n",
    "                return(list(\n",
    "                    phe2        = NA,\n",
    "                    pvalue2 = NA,\n",
    "                    snp2 = NA\n",
    "                ))\n",
    "            }\n",
    "            if(length(unique(qtl2[[phe2]])) == 1) {\n",
    "                return(\n",
    "                    list(\n",
    "                        phe2         = qtl2[[phe2]][1],\n",
    "                        pvalue2  = qtl2[[\"pvalues\"]][1],\n",
    "                        snp2 = qtl2[[\"snp\"]][1]\n",
    "                    )\n",
    "                )\n",
    "            } else { #multiple phe2\n",
    "                lead_snp1 = qtl1[[\"snp\"]]\n",
    "                query2 <- lead_SNP2 %>% filter(get(phe2) %in% qtl2[[phe2]],chrom==qtl1$chrom) %>% arrange(pvalues,MAF)\n",
    "                query2 <- query2[duplicated(query2$snp),]\n",
    "                lead_snp2_query <- query2$snp\n",
    "                # simplified apply (sapply) is a function used to apply a function to each element, row, or column of a vector, matrix, data frame, or array and return the results in a simplified way\n",
    "                if(length(lead_snp2_query) == 0){\n",
    "                    # ld_with_lead_snp1 <- c(0)\n",
    "                    return(list(\n",
    "                            phe2  = NA,\n",
    "                            pvalue2 = NA,\n",
    "                            snp2 = NA\n",
    "                        ))\n",
    "                } else if (length(lead_snp2_query) == 1) {\n",
    "                    return(list(\n",
    "                            phe2  = query2[[phe2]][1],\n",
    "                            pvalue2 = query2$pvalues[1],\n",
    "                            snp2 = query2$snp[1]\n",
    "                        ))\n",
    "                } else if (lead_snp1 %in% lead_snp2_query) {\n",
    "                    return(list(\n",
    "                            phe2  = query2[query2$snp==lead_snp1,][[phe2]][1],\n",
    "                            pvalue2 = query2[query2$snp==lead_snp1,]$pvalues[1],\n",
    "                            snp2 = lead_snp1\n",
    "                        ))\n",
    "                } else {\n",
    "                    ld_with_lead_snp1 = sapply( #Uses sapply and LDlinkR package to calculate LD (R2) between each selected meSNP and the lead eSNP.\n",
    "                        X = lead_snp2_query,\n",
    "                        FUN = function(x) {\n",
    "                            if (length(x) == 0) {\n",
    "                                return(0)\n",
    "                            } else {\n",
    "                                tryCatch({\n",
    "                                    ld_matrix = LDlinkR::LDpair(\n",
    "                                        var1  = x,\n",
    "                                        var2  = lead_snp1,\n",
    "                                        pop   = \"CEU\",\n",
    "                                        # https://ldlink.nih.gov/?tab=apiaccess\n",
    "                                        token = \"YOUR_TOKEN\"\n",
    "                                    )\n",
    "                                    return(ld_matrix[[\"r2\"]][1]) #calculate the LD between two SNP\n",
    "                                },\n",
    "                                error = function(error) {\n",
    "                                    print(paste(x, lead_snp1, error, sep = \"\\t\"))\n",
    "                                    return(0)\n",
    "                                })\n",
    "                            }\n",
    "                        },\n",
    "                        simplify = \"array\"\n",
    "                    )\n",
    "                }\n",
    "                \n",
    "                tryCatch({\n",
    "                    max_ld = max(ld_with_lead_snp1,na.rm=T)\n",
    "                    if(max_ld == 0 | is.na(max_ld)) {\n",
    "                        return(list(\n",
    "                            phe2  = NA,\n",
    "                            pvalue2 = NA,\n",
    "                            snp2 = NA\n",
    "                        ))\n",
    "                    } else { # If LD is valid, it identifies the SNP (max_ld_snp) corresponding to the maximum LD and extracts the lead phe2 (max_ld_phe), beta (max_ld_beta), varbeta (max_ld_varbeta), and pvalue (max_ld_pvalue) associated with that SNP.\n",
    "                        max_ld_snp = names(ld_with_lead_snp1)[which(ld_with_lead_snp1 == max_ld)]\n",
    "                        max_ld_phe   = (lead_SNP2 %>% filter(snp %in% max_ld_snp) %>% arrange(pvalues))[[phe2]][1]\n",
    "                        max_ld_pvalue  = (lead_SNP2 %>% filter(snp %in% max_ld_snp) %>% arrange(pvalues))$pvalues[1]\n",
    "                        return(\n",
    "                            list(\n",
    "                                phe2        = max_ld_phe,\n",
    "                                pvalue2 = max_ld_pvalue,\n",
    "                                snp2 = max_ld_snp\n",
    "                            )\n",
    "                        )\n",
    "                    }\n",
    "                },\n",
    "                error = function(error) {\n",
    "                    print(error)\n",
    "                    return(\n",
    "                            list(\n",
    "                                phe2        = NA,\n",
    "                                pvalue2 = NA,\n",
    "                                snp2 = NA\n",
    "                            )\n",
    "                        )\n",
    "                })\n",
    "            }\n",
    "        },\n",
    "        qtl_list1,\n",
    "        qtl_list2,\n",
    "        SIMPLIFY = FALSE\n",
    "    )\n",
    "}\n",
    "\n",
    "head(lead_phe2)\n"
   ]
  },
  {
   "cell_type": "code",
   "execution_count": null,
   "id": "79d559fd-8865-496b-8e43-c2017974400e",
   "metadata": {
    "papermill": {
     "duration": null,
     "end_time": null,
     "exception": null,
     "start_time": null,
     "status": "pending"
    },
    "tags": [],
    "vscode": {
     "languageId": "r"
    }
   },
   "outputs": [],
   "source": [
    "lead_phe2 <- lead_phe2[sapply(lead_phe2, function(x) ! is.na(x[\"phe2\"]))]\n",
    "qtl_list1 <- qtl_list1[names(lead_phe2)]\n",
    "qtl_list2 <- qtl_list2[names(lead_phe2)]"
   ]
  },
  {
   "cell_type": "code",
   "execution_count": null,
   "id": "ce3afea4-563a-4312-93cd-00417d15b3aa",
   "metadata": {
    "papermill": {
     "duration": null,
     "end_time": null,
     "exception": null,
     "start_time": null,
     "status": "pending"
    },
    "tags": [],
    "vscode": {
     "languageId": "r"
    }
   },
   "outputs": [],
   "source": [
    "head(lead_phe2)"
   ]
  },
  {
   "cell_type": "markdown",
   "id": "32352f29-75dd-4c82-8621-c1d3488039b7",
   "metadata": {
    "papermill": {
     "duration": null,
     "end_time": null,
     "exception": null,
     "start_time": null,
     "status": "pending"
    },
    "tags": []
   },
   "source": [
    "# Run coloc"
   ]
  },
  {
   "cell_type": "code",
   "execution_count": null,
   "id": "38e1db7f-3da2-4748-ae24-e2b965418762",
   "metadata": {
    "papermill": {
     "duration": null,
     "end_time": null,
     "exception": null,
     "start_time": null,
     "status": "pending"
    },
    "tags": [],
    "vscode": {
     "languageId": "r"
    }
   },
   "outputs": [],
   "source": [
    "SNP1 = sapply(\n",
    "    X = names(lead_phe2), #names of lead_phe2 is the same as qtl_list1 (phe1)\n",
    "    FUN = function(p1) {\n",
    "        QTL1 %>% filter(get(phe1) == p1, MAF > 0, MAF < 1)\n",
    "    },\n",
    "    simplify = FALSE,\n",
    "    USE.NAMES = TRUE\n",
    ")\n",
    "# head(SNP1)\n",
    "length(SNP1)"
   ]
  },
  {
   "cell_type": "code",
   "execution_count": null,
   "id": "b8e29865-96a3-44cf-acfd-b1baea1fa1f6",
   "metadata": {
    "papermill": {
     "duration": null,
     "end_time": null,
     "exception": null,
     "start_time": null,
     "status": "pending"
    },
    "tags": [],
    "vscode": {
     "languageId": "r"
    }
   },
   "outputs": [],
   "source": [
    "# SNP2 = lapply(\n",
    "#     X = SNP1,\n",
    "#     FUN = function(snp1) {\n",
    "#         QTL2 %>% filter(snp %in% snp1[[\"snp\"]]) # get the meQTl using snp as anchor to connect with genes from eQTL\n",
    "#     }\n",
    "# )\n",
    "# head(SNP2)\n",
    "SNP2 = lapply(\n",
    "    X = names(lead_phe2),\n",
    "    FUN = function(p) {\n",
    "        QTL2 %>% filter(snp %in% SNP1[[p]][[\"snp\"]],get(phe2)==lead_phe2[[p]][['phe2']]) # get the meQTl using snp as anchor to connect with genes from eQTL\n",
    "    }\n",
    ")\n",
    "names(SNP2) <- names(lead_phe2)\n",
    "length(SNP2)"
   ]
  },
  {
   "cell_type": "code",
   "execution_count": null,
   "id": "4e7e6d39-84ac-44e9-851d-5a33fd32aa94",
   "metadata": {
    "papermill": {
     "duration": null,
     "end_time": null,
     "exception": null,
     "start_time": null,
     "status": "pending"
    },
    "tags": [],
    "vscode": {
     "languageId": "r"
    }
   },
   "outputs": [],
   "source": [
    "# Run coloc\n",
    "coloc_result = mapply(\n",
    "    FUN = function(df_1, df_2, n_1, type_1 = \"quant\", type_2 = \"cc\") {\n",
    "    #df1 is eqtl dataframe for each gene, df2 is meQTL for each gene (using snp as anchor)\n",
    "        if (nrow(df_1) == 0 | nrow(df_2) == 0) {\n",
    "            return(list(n_snps = 0,PP3    = 0,PP4    = 0))\n",
    "            }\n",
    "        df_1 <- df_1 %>% # rename(MAF = maf, p = pvalue) %>%\n",
    "            arrange(pvalues) %>% distinct(snp, .keep_all = TRUE) # coloc要求不能有重复的SNP，所以只保留更显著的\n",
    "\n",
    "        if (has_beta1==\"yes\"){\n",
    "            df_1 <- df_1 %>%\n",
    "                select(snp, position, pvalues, beta, varbeta, MAF) #has beta and varbeta, no need meta1\n",
    "        } else {\n",
    "            df_1 <- df_1 %>%\n",
    "                select(snp, position, pvalues, MAF) # need N1,# no beta, use pvalue and MAF for quant\n",
    "        }\n",
    "        df_1 <- df_1 %>% filter(!is.na(MAF)) %>% as.list()\n",
    "        df_1[[\"N\"]] = n_1\n",
    "        df_1[[\"type\"]] = type_1\n",
    "\n",
    "        df_2 <- df_2 %>% #rename(MAF = maf, p = pvalue) %>%\n",
    "            arrange(pvalues) %>% distinct(snp, .keep_all = TRUE)\n",
    "        if (has_beta2==\"no\"){\n",
    "            sample_size = structure(df_meta2$N,names=df_meta2[[phe2]])\n",
    "            case_fraction = structure(df_meta2$S,names=df_meta2[[phe2]])\n",
    "            df_2 <- df_2 %>%\n",
    "                select(snp, position, pvalues, MAF, phe2) # #has beta and varbeta, no need meta1, need N2 and s (n_case/N2), can be read from meta2\n",
    "            df_2 <- df_2 %>% filter(!is.na(MAF)) %>% as.list()\n",
    "            df_2[[\"N\"]] = as.numeric(sample_size[df_2[[phe2]]][1]) #length(unique(phe2)) should be equal to 1\n",
    "            df_2[[\"s\"]] = as.numeric(case_fraction[df_2[[phe2]]][1])\n",
    "        } else { # has beta, use pvalue and MAF for quant\n",
    "            df_2 <- df_2 %>%\n",
    "                select(snp, position, pvalues, beta, varbeta, MAF) %>%\n",
    "                filter(!is.na(MAF)) %>% as.list()\n",
    "        }\n",
    "\n",
    "        df_2[[\"type\"]] = type_2\n",
    "        df_2 <- df_2[names(df_2) != phe2]\n",
    "\n",
    "        if (length(df_1[[\"snp\"]])== 0 | length(df_2[[\"snp\"]]) == 0) {\n",
    "            return(list(n_snps = 0,PP3    = 0,PP4    = 0))\n",
    "            }\n",
    "        tryCatch({\n",
    "            if (is.null(coloc::check_dataset(df_1)) & is.null(coloc::check_dataset(df_2))) {\n",
    "                invisible(capture.output({\n",
    "                    coloc_result = coloc::coloc.abf(\n",
    "                        dataset1 = df_1,\n",
    "                        dataset2 = df_2)\n",
    "                        }))\n",
    "                return(\n",
    "                    list(\n",
    "                        n_snps = coloc_result[[\"summary\"]][[\"nsnps\"]],\n",
    "                        PP3    = coloc_result[[\"summary\"]][[\"PP.H3.abf\"]],\n",
    "                        PP4    = coloc_result[[\"summary\"]][[\"PP.H4.abf\"]]\n",
    "                    )\n",
    "                )\n",
    "            } else {\n",
    "                return(\n",
    "                    list(\n",
    "                        n_snps = 0,\n",
    "                        PP3    = 0,\n",
    "                        PP4    = 0\n",
    "                    )\n",
    "                )\n",
    "            }},\n",
    "            error = function(error) {\n",
    "                print(error)\n",
    "                return(\n",
    "                    list(\n",
    "                        n_snps = 0,\n",
    "                        PP3    = 0,\n",
    "                        PP4    = 0\n",
    "                    )\n",
    "                )\n",
    "            })\n",
    "    },\n",
    "    df_1      = SNP1,\n",
    "    df_2      = SNP2, #qtl_list2,\n",
    "    n_1       = N1, # sample size\n",
    "    SIMPLIFY  = FALSE,\n",
    "    USE.NAMES = TRUE\n",
    ")"
   ]
  },
  {
   "cell_type": "code",
   "execution_count": null,
   "id": "3f769743-fe88-4fc3-a5f2-baeffa0e2441",
   "metadata": {
    "papermill": {
     "duration": null,
     "end_time": null,
     "exception": null,
     "start_time": null,
     "status": "pending"
    },
    "tags": [],
    "vscode": {
     "languageId": "r"
    }
   },
   "outputs": [],
   "source": [
    "# all(names(qtl_list1)==names(coloc_result))"
   ]
  },
  {
   "cell_type": "code",
   "execution_count": null,
   "id": "2cce63d4-1c99-4f96-be14-91f27a985975",
   "metadata": {
    "papermill": {
     "duration": null,
     "end_time": null,
     "exception": null,
     "start_time": null,
     "status": "pending"
    },
    "tags": [],
    "vscode": {
     "languageId": "r"
    }
   },
   "outputs": [],
   "source": [
    "final_coloc_result_list = mapply(\n",
    "    FUN = function(qtl1, qtl2_lead_phe, coloc_result) {\n",
    "        return(c(\n",
    "            qtl1,\n",
    "            qtl2_lead_phe,\n",
    "            coloc_result\n",
    "        ))\n",
    "    },\n",
    "    qtl1  = qtl_list1, # eQTL (snp,chr,position,ref,alt,maf,gene,beta,varbeta,pvalue) for each gene\n",
    "    qtl2_lead_phe = lead_phe2, #meQTL (lead probe: probe,beta_meqtl,varbeta_meqtl,pvalue_meqtl), for each gene in eQTL, get the esnp (corresponding to this gene), then get the probe (from meQTL) using snp as anchor, then get the lead_me_snp with the largest LD using probe as anchor.\n",
    "    coloc_result      = coloc_result,\n",
    "    SIMPLIFY          = FALSE\n",
    ")\n",
    "head(final_coloc_result_list)"
   ]
  },
  {
   "cell_type": "code",
   "execution_count": null,
   "id": "514345fd-30e0-4955-adde-577c2c0ed8fe",
   "metadata": {
    "papermill": {
     "duration": null,
     "end_time": null,
     "exception": null,
     "start_time": null,
     "status": "pending"
    },
    "tags": [],
    "vscode": {
     "languageId": "r"
    }
   },
   "outputs": [],
   "source": [
    "final_coloc_result_table = do.call(rbind, final_coloc_result_list) %>%\n",
    "    as.data.frame() %>%\n",
    "    mutate_at(\n",
    "        .vars = vars(c(\"snp\", \"chrom\", phe1, phe2,\"snp2\")),\n",
    "        .funs = as.character\n",
    "    ) %>%\n",
    "    mutate_at(\n",
    "        .vars = vars(-c(\"snp\", \"chrom\", phe1, phe2,\"snp2\")),\n",
    "        .funs = as.numeric\n",
    "    ) %>%\n",
    "    mutate_all(\n",
    "        .funs = function(x) {\n",
    "            ifelse(is.na(x) | x == \"NA\", NA, x)\n",
    "        }\n",
    "    ) %>%\n",
    "    mutate(PP4 = ifelse(is.na(phe2), 0, PP4)) %>%\n",
    "    arrange(desc(PP4))\n",
    "head(final_coloc_result_table)"
   ]
  },
  {
   "cell_type": "code",
   "execution_count": null,
   "id": "3a56809a-400b-4f47-b2f8-dafe076cdff0",
   "metadata": {
    "papermill": {
     "duration": null,
     "end_time": null,
     "exception": null,
     "start_time": null,
     "status": "pending"
    },
    "tags": [],
    "vscode": {
     "languageId": "r"
    }
   },
   "outputs": [],
   "source": [
    "sorted_df <- final_coloc_result_table %>% arrange(desc(PP4))\n",
    "head(sorted_df)\n",
    "dim(sorted_df)"
   ]
  },
  {
   "cell_type": "code",
   "execution_count": null,
   "id": "9d268dcc-03e8-4b8e-8d21-8706034e76bd",
   "metadata": {
    "papermill": {
     "duration": null,
     "end_time": null,
     "exception": null,
     "start_time": null,
     "status": "pending"
    },
    "tags": [],
    "vscode": {
     "languageId": "r"
    }
   },
   "outputs": [],
   "source": [
    "write.table(sorted_df,file=paste(outdir,paste0(name,\".txt\"),sep=\"/\"),\n",
    "            quote=FALSE,col.names=T,row.names=T,sep='\\t')"
   ]
  },
  {
   "cell_type": "code",
   "execution_count": null,
   "id": "b1f74ea7-6d0b-4e41-878b-cb03b7f30d43",
   "metadata": {
    "papermill": {
     "duration": null,
     "end_time": null,
     "exception": null,
     "start_time": null,
     "status": "pending"
    },
    "tags": [],
    "vscode": {
     "languageId": "r"
    }
   },
   "outputs": [],
   "source": [
    "save(SNP1, SNP2, sorted_df, file = paste(outdir,paste0(name,\".rda\"),sep=\"/\"))"
   ]
  },
  {
   "cell_type": "code",
   "execution_count": null,
   "id": "a617673d-833a-42c9-9405-c519d36256ee",
   "metadata": {
    "papermill": {
     "duration": null,
     "end_time": null,
     "exception": null,
     "start_time": null,
     "status": "pending"
    },
    "tags": [],
    "vscode": {
     "languageId": "r"
    }
   },
   "outputs": [],
   "source": []
  }
 ],
 "metadata": {
  "kernelspec": {
   "display_name": "R4.3.3",
   "language": "R",
   "name": "r4.3.3"
  },
  "language_info": {
   "codemirror_mode": "r",
   "file_extension": ".r",
   "mimetype": "text/x-r-source",
   "name": "R",
   "pygments_lexer": "r",
   "version": "4.3.3"
  },
  "papermill": {
   "default_parameters": {},
   "duration": 2942.007274,
   "end_time": "2024-08-27T18:55:49.489749",
   "environment_variables": {},
   "exception": true,
   "input_path": "run_coloc_quant_cc.ipynb",
   "output_path": "/home/x-wding2/project_wubin/ECHO/coloc_results/Monocyte.cc.with_beta.ipynb",
   "parameters": {
    "N1": 110,
    "has_beta1": "no",
    "has_beta2": "yes",
    "infile1": "/home/x-wding2/project_wubin/ECHO/cis-meQTL-norminal/Monocyte.tsv",
    "infile2": "/home/x-wding2/project_wubin/ECHO/gwas_catalog/gwas_catalog_cc_with_beta.tsv.gz",
    "meta2": "/home/x-wding2/project_wubin/ECHO/gwas_catalog/gwas_catalog_harmonised_metadata.tsv",
    "name": "Monocyte.cc.with_beta",
    "outdir": "/home/x-wding2/project_wubin/ECHO/coloc_results",
    "phe1": "dmr_id",
    "phe2": "gwas_id"
   },
   "start_time": "2024-08-27T18:06:47.482475",
   "version": "2.6.0"
  }
 },
 "nbformat": 4,
 "nbformat_minor": 5
}
